{
 "cells": [
  {
   "cell_type": "code",
   "execution_count": 1,
   "metadata": {},
   "outputs": [],
   "source": [
    "from pandas import Series,DataFrame\n",
    "import numpy as np\n",
    "import pandas as pd\n",
    "import matplotlib.pyplot as plt\n",
    "%matplotlib inline\n",
    "import seaborn as sns\n",
    "sns.set_style(\"whitegrid\")\n",
    "import statistics"
   ]
  },
  {
   "cell_type": "code",
   "execution_count": 2,
   "metadata": {},
   "outputs": [
    {
     "name": "stderr",
     "output_type": "stream",
     "text": [
      "c:\\users\\dell\\appdata\\local\\programs\\python\\python37\\lib\\site-packages\\IPython\\core\\interactiveshell.py:3020: DtypeWarning: Columns (0,3,7,19,34,47,49,50,51,52,53,54,68,81,94,96,109,115,130,139,147,154,167,180,193,206,219,232,245) have mixed types. Specify dtype option on import or set low_memory=False.\n",
      "  interactivity=interactivity, compiler=compiler, result=result)\n"
     ]
    }
   ],
   "source": [
    "df=pd.read_csv(\"multiple_choice_responses.csv\")"
   ]
  },
  {
   "cell_type": "code",
   "execution_count": 3,
   "metadata": {},
   "outputs": [],
   "source": [
    "df=df.drop(0,axis=0)"
   ]
  },
  {
   "cell_type": "code",
   "execution_count": 4,
   "metadata": {},
   "outputs": [
    {
     "data": {
      "text/html": [
       "<div>\n",
       "<style scoped>\n",
       "    .dataframe tbody tr th:only-of-type {\n",
       "        vertical-align: middle;\n",
       "    }\n",
       "\n",
       "    .dataframe tbody tr th {\n",
       "        vertical-align: top;\n",
       "    }\n",
       "\n",
       "    .dataframe thead th {\n",
       "        text-align: right;\n",
       "    }\n",
       "</style>\n",
       "<table border=\"1\" class=\"dataframe\">\n",
       "  <thead>\n",
       "    <tr style=\"text-align: right;\">\n",
       "      <th></th>\n",
       "      <th>Time from Start to Finish (seconds)</th>\n",
       "      <th>Q1</th>\n",
       "      <th>Q2</th>\n",
       "      <th>Q2_OTHER_TEXT</th>\n",
       "      <th>Q3</th>\n",
       "      <th>Q4</th>\n",
       "      <th>Q5</th>\n",
       "      <th>Q5_OTHER_TEXT</th>\n",
       "      <th>Q6</th>\n",
       "      <th>Q7</th>\n",
       "      <th>...</th>\n",
       "      <th>Q34_Part_4</th>\n",
       "      <th>Q34_Part_5</th>\n",
       "      <th>Q34_Part_6</th>\n",
       "      <th>Q34_Part_7</th>\n",
       "      <th>Q34_Part_8</th>\n",
       "      <th>Q34_Part_9</th>\n",
       "      <th>Q34_Part_10</th>\n",
       "      <th>Q34_Part_11</th>\n",
       "      <th>Q34_Part_12</th>\n",
       "      <th>Q34_OTHER_TEXT</th>\n",
       "    </tr>\n",
       "  </thead>\n",
       "  <tbody>\n",
       "    <tr>\n",
       "      <th>1</th>\n",
       "      <td>510</td>\n",
       "      <td>22-24</td>\n",
       "      <td>Male</td>\n",
       "      <td>-1</td>\n",
       "      <td>France</td>\n",
       "      <td>Master’s degree</td>\n",
       "      <td>Software Engineer</td>\n",
       "      <td>-1</td>\n",
       "      <td>1000-9,999 employees</td>\n",
       "      <td>0</td>\n",
       "      <td>...</td>\n",
       "      <td>NaN</td>\n",
       "      <td>NaN</td>\n",
       "      <td>NaN</td>\n",
       "      <td>NaN</td>\n",
       "      <td>NaN</td>\n",
       "      <td>NaN</td>\n",
       "      <td>NaN</td>\n",
       "      <td>NaN</td>\n",
       "      <td>NaN</td>\n",
       "      <td>-1</td>\n",
       "    </tr>\n",
       "    <tr>\n",
       "      <th>2</th>\n",
       "      <td>423</td>\n",
       "      <td>40-44</td>\n",
       "      <td>Male</td>\n",
       "      <td>-1</td>\n",
       "      <td>India</td>\n",
       "      <td>Professional degree</td>\n",
       "      <td>Software Engineer</td>\n",
       "      <td>-1</td>\n",
       "      <td>&gt; 10,000 employees</td>\n",
       "      <td>20+</td>\n",
       "      <td>...</td>\n",
       "      <td>NaN</td>\n",
       "      <td>NaN</td>\n",
       "      <td>NaN</td>\n",
       "      <td>NaN</td>\n",
       "      <td>NaN</td>\n",
       "      <td>NaN</td>\n",
       "      <td>NaN</td>\n",
       "      <td>NaN</td>\n",
       "      <td>NaN</td>\n",
       "      <td>-1</td>\n",
       "    </tr>\n",
       "    <tr>\n",
       "      <th>3</th>\n",
       "      <td>83</td>\n",
       "      <td>55-59</td>\n",
       "      <td>Female</td>\n",
       "      <td>-1</td>\n",
       "      <td>Germany</td>\n",
       "      <td>Professional degree</td>\n",
       "      <td>NaN</td>\n",
       "      <td>-1</td>\n",
       "      <td>NaN</td>\n",
       "      <td>NaN</td>\n",
       "      <td>...</td>\n",
       "      <td>NaN</td>\n",
       "      <td>NaN</td>\n",
       "      <td>NaN</td>\n",
       "      <td>NaN</td>\n",
       "      <td>NaN</td>\n",
       "      <td>NaN</td>\n",
       "      <td>NaN</td>\n",
       "      <td>NaN</td>\n",
       "      <td>NaN</td>\n",
       "      <td>-1</td>\n",
       "    </tr>\n",
       "    <tr>\n",
       "      <th>4</th>\n",
       "      <td>391</td>\n",
       "      <td>40-44</td>\n",
       "      <td>Male</td>\n",
       "      <td>-1</td>\n",
       "      <td>Australia</td>\n",
       "      <td>Master’s degree</td>\n",
       "      <td>Other</td>\n",
       "      <td>0</td>\n",
       "      <td>&gt; 10,000 employees</td>\n",
       "      <td>20+</td>\n",
       "      <td>...</td>\n",
       "      <td>NaN</td>\n",
       "      <td>NaN</td>\n",
       "      <td>NaN</td>\n",
       "      <td>NaN</td>\n",
       "      <td>NaN</td>\n",
       "      <td>Azure SQL Database</td>\n",
       "      <td>NaN</td>\n",
       "      <td>NaN</td>\n",
       "      <td>NaN</td>\n",
       "      <td>-1</td>\n",
       "    </tr>\n",
       "    <tr>\n",
       "      <th>5</th>\n",
       "      <td>392</td>\n",
       "      <td>22-24</td>\n",
       "      <td>Male</td>\n",
       "      <td>-1</td>\n",
       "      <td>India</td>\n",
       "      <td>Bachelor’s degree</td>\n",
       "      <td>Other</td>\n",
       "      <td>1</td>\n",
       "      <td>0-49 employees</td>\n",
       "      <td>0</td>\n",
       "      <td>...</td>\n",
       "      <td>NaN</td>\n",
       "      <td>NaN</td>\n",
       "      <td>NaN</td>\n",
       "      <td>NaN</td>\n",
       "      <td>NaN</td>\n",
       "      <td>NaN</td>\n",
       "      <td>NaN</td>\n",
       "      <td>NaN</td>\n",
       "      <td>NaN</td>\n",
       "      <td>-1</td>\n",
       "    </tr>\n",
       "  </tbody>\n",
       "</table>\n",
       "<p>5 rows × 246 columns</p>\n",
       "</div>"
      ],
      "text/plain": [
       "  Time from Start to Finish (seconds)     Q1      Q2 Q2_OTHER_TEXT         Q3  \\\n",
       "1                                 510  22-24    Male            -1     France   \n",
       "2                                 423  40-44    Male            -1      India   \n",
       "3                                  83  55-59  Female            -1    Germany   \n",
       "4                                 391  40-44    Male            -1  Australia   \n",
       "5                                 392  22-24    Male            -1      India   \n",
       "\n",
       "                    Q4                 Q5 Q5_OTHER_TEXT                    Q6  \\\n",
       "1      Master’s degree  Software Engineer            -1  1000-9,999 employees   \n",
       "2  Professional degree  Software Engineer            -1    > 10,000 employees   \n",
       "3  Professional degree                NaN            -1                   NaN   \n",
       "4      Master’s degree              Other             0    > 10,000 employees   \n",
       "5    Bachelor’s degree              Other             1        0-49 employees   \n",
       "\n",
       "    Q7      ...       Q34_Part_4 Q34_Part_5 Q34_Part_6 Q34_Part_7 Q34_Part_8  \\\n",
       "1    0      ...              NaN        NaN        NaN        NaN        NaN   \n",
       "2  20+      ...              NaN        NaN        NaN        NaN        NaN   \n",
       "3  NaN      ...              NaN        NaN        NaN        NaN        NaN   \n",
       "4  20+      ...              NaN        NaN        NaN        NaN        NaN   \n",
       "5    0      ...              NaN        NaN        NaN        NaN        NaN   \n",
       "\n",
       "           Q34_Part_9 Q34_Part_10 Q34_Part_11 Q34_Part_12 Q34_OTHER_TEXT  \n",
       "1                 NaN         NaN         NaN         NaN             -1  \n",
       "2                 NaN         NaN         NaN         NaN             -1  \n",
       "3                 NaN         NaN         NaN         NaN             -1  \n",
       "4  Azure SQL Database         NaN         NaN         NaN             -1  \n",
       "5                 NaN         NaN         NaN         NaN             -1  \n",
       "\n",
       "[5 rows x 246 columns]"
      ]
     },
     "execution_count": 4,
     "metadata": {},
     "output_type": "execute_result"
    }
   ],
   "source": [
    "df.head()"
   ]
  },
  {
   "cell_type": "markdown",
   "metadata": {},
   "source": [
    "# function_box"
   ]
  },
  {
   "cell_type": "code",
   "execution_count": 5,
   "metadata": {},
   "outputs": [],
   "source": [
    "def numriser(v):\n",
    "    v1=[]\n",
    "    for i in v:\n",
    "        v1=np.append(v1,int(i))\n",
    "    return(v1)"
   ]
  },
  {
   "cell_type": "code",
   "execution_count": 20,
   "metadata": {},
   "outputs": [],
   "source": [
    "def co(c):\n",
    "    t1=[]\n",
    "    for i in np.arange(len(t)):\n",
    "        if t[i]>c:\n",
    "            t1=np.append(t1,t[i])   \n",
    "    return(t1)"
   ]
  },
  {
   "cell_type": "code",
   "execution_count": 7,
   "metadata": {},
   "outputs": [],
   "source": [
    "def dnumriser(c):\n",
    "    v2=[]\n",
    "    for i in np.arange(1,len(c)):\n",
    "        if len(c[i])==5:\n",
    "            v1=(int(c[i][0:2])+int(c[i][3:5]))/2\n",
    "            v2=np.append(v2,v1)\n",
    "        else:\n",
    "            v1=(int(c[i][0:2]))\n",
    "            v2=np.append(v2,v1)\n",
    "    return (v2)"
   ]
  },
  {
   "cell_type": "code",
   "execution_count": 210,
   "metadata": {},
   "outputs": [],
   "source": [
    "def cc(v,n):\n",
    "    f=0\n",
    "    for i in np.arange(1,len(v)):\n",
    "        if (v[i])==n:\n",
    "            f=f+1\n",
    "    return (f)"
   ]
  },
  {
   "cell_type": "code",
   "execution_count": 212,
   "metadata": {},
   "outputs": [
    {
     "data": {
      "text/plain": [
       "4786"
      ]
     },
     "execution_count": 212,
     "metadata": {},
     "output_type": "execute_result"
    }
   ],
   "source": [
    "cc(df[\"Q3\"],\"India\")"
   ]
  },
  {
   "cell_type": "code",
   "execution_count": 21,
   "metadata": {},
   "outputs": [
    {
     "data": {
      "text/plain": [
       "0    Q9_Part_1\n",
       "Name: 11, dtype: object"
      ]
     },
     "execution_count": 21,
     "metadata": {},
     "output_type": "execute_result"
    }
   ],
   "source": [
    "q=DataFrame(df.columns).T[11]\n",
    "q #now from here we begin from qusetion 9 df\n"
   ]
  },
  {
   "cell_type": "code",
   "execution_count": 22,
   "metadata": {},
   "outputs": [
    {
     "data": {
      "text/html": [
       "<div>\n",
       "<style scoped>\n",
       "    .dataframe tbody tr th:only-of-type {\n",
       "        vertical-align: middle;\n",
       "    }\n",
       "\n",
       "    .dataframe tbody tr th {\n",
       "        vertical-align: top;\n",
       "    }\n",
       "\n",
       "    .dataframe thead th {\n",
       "        text-align: right;\n",
       "    }\n",
       "</style>\n",
       "<table border=\"1\" class=\"dataframe\">\n",
       "  <thead>\n",
       "    <tr style=\"text-align: right;\">\n",
       "      <th></th>\n",
       "      <th>Q9_Part_1</th>\n",
       "    </tr>\n",
       "  </thead>\n",
       "  <tbody>\n",
       "    <tr>\n",
       "      <th>1</th>\n",
       "      <td>NaN</td>\n",
       "    </tr>\n",
       "    <tr>\n",
       "      <th>2</th>\n",
       "      <td>Analyze and understand data to influence produ...</td>\n",
       "    </tr>\n",
       "    <tr>\n",
       "      <th>3</th>\n",
       "      <td>NaN</td>\n",
       "    </tr>\n",
       "    <tr>\n",
       "      <th>4</th>\n",
       "      <td>NaN</td>\n",
       "    </tr>\n",
       "    <tr>\n",
       "      <th>5</th>\n",
       "      <td>NaN</td>\n",
       "    </tr>\n",
       "  </tbody>\n",
       "</table>\n",
       "</div>"
      ],
      "text/plain": [
       "                                           Q9_Part_1\n",
       "1                                                NaN\n",
       "2  Analyze and understand data to influence produ...\n",
       "3                                                NaN\n",
       "4                                                NaN\n",
       "5                                                NaN"
      ]
     },
     "execution_count": 22,
     "metadata": {},
     "output_type": "execute_result"
    }
   ],
   "source": [
    "#df[q].T[0]\n",
    "df[q].head(5)"
   ]
  },
  {
   "cell_type": "code",
   "execution_count": 23,
   "metadata": {},
   "outputs": [],
   "source": [
    "df_b=DataFrame([df[\"Time from Start to Finish (seconds)\"],df[\"Q1\"],df[\"Q2\"],df[\"Q3\"],df[\"Q4\"],df[\"Q5\"],df[\"Q6\"],df[\"Q7\"]]).T"
   ]
  },
  {
   "cell_type": "code",
   "execution_count": 24,
   "metadata": {},
   "outputs": [
    {
     "data": {
      "text/html": [
       "<div>\n",
       "<style scoped>\n",
       "    .dataframe tbody tr th:only-of-type {\n",
       "        vertical-align: middle;\n",
       "    }\n",
       "\n",
       "    .dataframe tbody tr th {\n",
       "        vertical-align: top;\n",
       "    }\n",
       "\n",
       "    .dataframe thead th {\n",
       "        text-align: right;\n",
       "    }\n",
       "</style>\n",
       "<table border=\"1\" class=\"dataframe\">\n",
       "  <thead>\n",
       "    <tr style=\"text-align: right;\">\n",
       "      <th></th>\n",
       "      <th>Time from Start to Finish (seconds)</th>\n",
       "      <th>Q1</th>\n",
       "      <th>Q2</th>\n",
       "      <th>Q3</th>\n",
       "      <th>Q4</th>\n",
       "      <th>Q5</th>\n",
       "      <th>Q6</th>\n",
       "      <th>Q7</th>\n",
       "    </tr>\n",
       "  </thead>\n",
       "  <tbody>\n",
       "    <tr>\n",
       "      <th>1</th>\n",
       "      <td>510</td>\n",
       "      <td>22-24</td>\n",
       "      <td>Male</td>\n",
       "      <td>France</td>\n",
       "      <td>Master’s degree</td>\n",
       "      <td>Software Engineer</td>\n",
       "      <td>1000-9,999 employees</td>\n",
       "      <td>0</td>\n",
       "    </tr>\n",
       "    <tr>\n",
       "      <th>2</th>\n",
       "      <td>423</td>\n",
       "      <td>40-44</td>\n",
       "      <td>Male</td>\n",
       "      <td>India</td>\n",
       "      <td>Professional degree</td>\n",
       "      <td>Software Engineer</td>\n",
       "      <td>&gt; 10,000 employees</td>\n",
       "      <td>20+</td>\n",
       "    </tr>\n",
       "    <tr>\n",
       "      <th>3</th>\n",
       "      <td>83</td>\n",
       "      <td>55-59</td>\n",
       "      <td>Female</td>\n",
       "      <td>Germany</td>\n",
       "      <td>Professional degree</td>\n",
       "      <td>NaN</td>\n",
       "      <td>NaN</td>\n",
       "      <td>NaN</td>\n",
       "    </tr>\n",
       "    <tr>\n",
       "      <th>4</th>\n",
       "      <td>391</td>\n",
       "      <td>40-44</td>\n",
       "      <td>Male</td>\n",
       "      <td>Australia</td>\n",
       "      <td>Master’s degree</td>\n",
       "      <td>Other</td>\n",
       "      <td>&gt; 10,000 employees</td>\n",
       "      <td>20+</td>\n",
       "    </tr>\n",
       "    <tr>\n",
       "      <th>5</th>\n",
       "      <td>392</td>\n",
       "      <td>22-24</td>\n",
       "      <td>Male</td>\n",
       "      <td>India</td>\n",
       "      <td>Bachelor’s degree</td>\n",
       "      <td>Other</td>\n",
       "      <td>0-49 employees</td>\n",
       "      <td>0</td>\n",
       "    </tr>\n",
       "    <tr>\n",
       "      <th>6</th>\n",
       "      <td>470</td>\n",
       "      <td>50-54</td>\n",
       "      <td>Male</td>\n",
       "      <td>France</td>\n",
       "      <td>Master’s degree</td>\n",
       "      <td>Data Scientist</td>\n",
       "      <td>0-49 employees</td>\n",
       "      <td>3-4</td>\n",
       "    </tr>\n",
       "    <tr>\n",
       "      <th>7</th>\n",
       "      <td>529</td>\n",
       "      <td>22-24</td>\n",
       "      <td>Male</td>\n",
       "      <td>India</td>\n",
       "      <td>Master’s degree</td>\n",
       "      <td>Data Scientist</td>\n",
       "      <td>50-249 employees</td>\n",
       "      <td>20+</td>\n",
       "    </tr>\n",
       "    <tr>\n",
       "      <th>8</th>\n",
       "      <td>624</td>\n",
       "      <td>22-24</td>\n",
       "      <td>Female</td>\n",
       "      <td>United States of America</td>\n",
       "      <td>Bachelor’s degree</td>\n",
       "      <td>Data Scientist</td>\n",
       "      <td>&gt; 10,000 employees</td>\n",
       "      <td>20+</td>\n",
       "    </tr>\n",
       "    <tr>\n",
       "      <th>9</th>\n",
       "      <td>214</td>\n",
       "      <td>22-24</td>\n",
       "      <td>Male</td>\n",
       "      <td>United States of America</td>\n",
       "      <td>Bachelor’s degree</td>\n",
       "      <td>Student</td>\n",
       "      <td>NaN</td>\n",
       "      <td>NaN</td>\n",
       "    </tr>\n",
       "    <tr>\n",
       "      <th>10</th>\n",
       "      <td>691</td>\n",
       "      <td>55-59</td>\n",
       "      <td>Male</td>\n",
       "      <td>Netherlands</td>\n",
       "      <td>Master’s degree</td>\n",
       "      <td>Other</td>\n",
       "      <td>0-49 employees</td>\n",
       "      <td>1-2</td>\n",
       "    </tr>\n",
       "    <tr>\n",
       "      <th>11</th>\n",
       "      <td>290</td>\n",
       "      <td>18-21</td>\n",
       "      <td>Male</td>\n",
       "      <td>India</td>\n",
       "      <td>Some college/university study without earning ...</td>\n",
       "      <td>Student</td>\n",
       "      <td>NaN</td>\n",
       "      <td>NaN</td>\n",
       "    </tr>\n",
       "    <tr>\n",
       "      <th>12</th>\n",
       "      <td>459</td>\n",
       "      <td>30-34</td>\n",
       "      <td>Male</td>\n",
       "      <td>Germany</td>\n",
       "      <td>Master’s degree</td>\n",
       "      <td>Statistician</td>\n",
       "      <td>0-49 employees</td>\n",
       "      <td>5-9</td>\n",
       "    </tr>\n",
       "    <tr>\n",
       "      <th>13</th>\n",
       "      <td>397</td>\n",
       "      <td>30-34</td>\n",
       "      <td>Male</td>\n",
       "      <td>Germany</td>\n",
       "      <td>Bachelor’s degree</td>\n",
       "      <td>Data Scientist</td>\n",
       "      <td>50-249 employees</td>\n",
       "      <td>5-9</td>\n",
       "    </tr>\n",
       "    <tr>\n",
       "      <th>14</th>\n",
       "      <td>372</td>\n",
       "      <td>30-34</td>\n",
       "      <td>Male</td>\n",
       "      <td>United States of America</td>\n",
       "      <td>Master’s degree</td>\n",
       "      <td>Product/Project Manager</td>\n",
       "      <td>&gt; 10,000 employees</td>\n",
       "      <td>20+</td>\n",
       "    </tr>\n",
       "    <tr>\n",
       "      <th>15</th>\n",
       "      <td>524</td>\n",
       "      <td>25-29</td>\n",
       "      <td>Male</td>\n",
       "      <td>India</td>\n",
       "      <td>Bachelor’s degree</td>\n",
       "      <td>Other</td>\n",
       "      <td>1000-9,999 employees</td>\n",
       "      <td>NaN</td>\n",
       "    </tr>\n",
       "    <tr>\n",
       "      <th>16</th>\n",
       "      <td>485</td>\n",
       "      <td>50-54</td>\n",
       "      <td>Female</td>\n",
       "      <td>United States of America</td>\n",
       "      <td>Master’s degree</td>\n",
       "      <td>Data Analyst</td>\n",
       "      <td>50-249 employees</td>\n",
       "      <td>1-2</td>\n",
       "    </tr>\n",
       "    <tr>\n",
       "      <th>17</th>\n",
       "      <td>426</td>\n",
       "      <td>18-21</td>\n",
       "      <td>Male</td>\n",
       "      <td>Australia</td>\n",
       "      <td>Bachelor’s degree</td>\n",
       "      <td>Software Engineer</td>\n",
       "      <td>0-49 employees</td>\n",
       "      <td>1-2</td>\n",
       "    </tr>\n",
       "    <tr>\n",
       "      <th>18</th>\n",
       "      <td>420</td>\n",
       "      <td>18-21</td>\n",
       "      <td>Male</td>\n",
       "      <td>India</td>\n",
       "      <td>Some college/university study without earning ...</td>\n",
       "      <td>Student</td>\n",
       "      <td>NaN</td>\n",
       "      <td>NaN</td>\n",
       "    </tr>\n",
       "    <tr>\n",
       "      <th>19</th>\n",
       "      <td>756</td>\n",
       "      <td>35-39</td>\n",
       "      <td>Male</td>\n",
       "      <td>France</td>\n",
       "      <td>Master’s degree</td>\n",
       "      <td>Product/Project Manager</td>\n",
       "      <td>&gt; 10,000 employees</td>\n",
       "      <td>20+</td>\n",
       "    </tr>\n",
       "    <tr>\n",
       "      <th>20</th>\n",
       "      <td>368</td>\n",
       "      <td>25-29</td>\n",
       "      <td>Male</td>\n",
       "      <td>France</td>\n",
       "      <td>Doctoral degree</td>\n",
       "      <td>Research Scientist</td>\n",
       "      <td>50-249 employees</td>\n",
       "      <td>3-4</td>\n",
       "    </tr>\n",
       "    <tr>\n",
       "      <th>21</th>\n",
       "      <td>1529</td>\n",
       "      <td>22-24</td>\n",
       "      <td>Female</td>\n",
       "      <td>Ireland</td>\n",
       "      <td>Master’s degree</td>\n",
       "      <td>Data Analyst</td>\n",
       "      <td>1000-9,999 employees</td>\n",
       "      <td>10-14</td>\n",
       "    </tr>\n",
       "    <tr>\n",
       "      <th>22</th>\n",
       "      <td>979</td>\n",
       "      <td>35-39</td>\n",
       "      <td>Male</td>\n",
       "      <td>United States of America</td>\n",
       "      <td>Bachelor’s degree</td>\n",
       "      <td>Other</td>\n",
       "      <td>250-999 employees</td>\n",
       "      <td>10-14</td>\n",
       "    </tr>\n",
       "    <tr>\n",
       "      <th>23</th>\n",
       "      <td>691</td>\n",
       "      <td>25-29</td>\n",
       "      <td>Male</td>\n",
       "      <td>India</td>\n",
       "      <td>Master’s degree</td>\n",
       "      <td>Business Analyst</td>\n",
       "      <td>&gt; 10,000 employees</td>\n",
       "      <td>0</td>\n",
       "    </tr>\n",
       "    <tr>\n",
       "      <th>24</th>\n",
       "      <td>1146</td>\n",
       "      <td>40-44</td>\n",
       "      <td>Male</td>\n",
       "      <td>Russia</td>\n",
       "      <td>Master’s degree</td>\n",
       "      <td>Software Engineer</td>\n",
       "      <td>50-249 employees</td>\n",
       "      <td>1-2</td>\n",
       "    </tr>\n",
       "    <tr>\n",
       "      <th>25</th>\n",
       "      <td>377</td>\n",
       "      <td>25-29</td>\n",
       "      <td>Male</td>\n",
       "      <td>Greece</td>\n",
       "      <td>Master’s degree</td>\n",
       "      <td>Research Scientist</td>\n",
       "      <td>250-999 employees</td>\n",
       "      <td>20+</td>\n",
       "    </tr>\n",
       "    <tr>\n",
       "      <th>26</th>\n",
       "      <td>379</td>\n",
       "      <td>30-34</td>\n",
       "      <td>Male</td>\n",
       "      <td>Greece</td>\n",
       "      <td>Master’s degree</td>\n",
       "      <td>Software Engineer</td>\n",
       "      <td>0-49 employees</td>\n",
       "      <td>0</td>\n",
       "    </tr>\n",
       "    <tr>\n",
       "      <th>27</th>\n",
       "      <td>353</td>\n",
       "      <td>35-39</td>\n",
       "      <td>Male</td>\n",
       "      <td>India</td>\n",
       "      <td>Master’s degree</td>\n",
       "      <td>Software Engineer</td>\n",
       "      <td>0-49 employees</td>\n",
       "      <td>1-2</td>\n",
       "    </tr>\n",
       "    <tr>\n",
       "      <th>28</th>\n",
       "      <td>518</td>\n",
       "      <td>25-29</td>\n",
       "      <td>Male</td>\n",
       "      <td>United States of America</td>\n",
       "      <td>Doctoral degree</td>\n",
       "      <td>Student</td>\n",
       "      <td>NaN</td>\n",
       "      <td>NaN</td>\n",
       "    </tr>\n",
       "    <tr>\n",
       "      <th>29</th>\n",
       "      <td>528</td>\n",
       "      <td>30-34</td>\n",
       "      <td>Female</td>\n",
       "      <td>Ukraine</td>\n",
       "      <td>Doctoral degree</td>\n",
       "      <td>Research Scientist</td>\n",
       "      <td>1000-9,999 employees</td>\n",
       "      <td>3-4</td>\n",
       "    </tr>\n",
       "    <tr>\n",
       "      <th>30</th>\n",
       "      <td>615</td>\n",
       "      <td>25-29</td>\n",
       "      <td>Female</td>\n",
       "      <td>Pakistan</td>\n",
       "      <td>Master’s degree</td>\n",
       "      <td>Research Scientist</td>\n",
       "      <td>0-49 employees</td>\n",
       "      <td>10-14</td>\n",
       "    </tr>\n",
       "    <tr>\n",
       "      <th>...</th>\n",
       "      <td>...</td>\n",
       "      <td>...</td>\n",
       "      <td>...</td>\n",
       "      <td>...</td>\n",
       "      <td>...</td>\n",
       "      <td>...</td>\n",
       "      <td>...</td>\n",
       "      <td>...</td>\n",
       "    </tr>\n",
       "    <tr>\n",
       "      <th>19688</th>\n",
       "      <td>390</td>\n",
       "      <td>25-29</td>\n",
       "      <td>Male</td>\n",
       "      <td>India</td>\n",
       "      <td>Bachelor’s degree</td>\n",
       "      <td>Not employed</td>\n",
       "      <td>NaN</td>\n",
       "      <td>NaN</td>\n",
       "    </tr>\n",
       "    <tr>\n",
       "      <th>19689</th>\n",
       "      <td>257</td>\n",
       "      <td>22-24</td>\n",
       "      <td>Male</td>\n",
       "      <td>Bangladesh</td>\n",
       "      <td>Bachelor’s degree</td>\n",
       "      <td>Not employed</td>\n",
       "      <td>NaN</td>\n",
       "      <td>NaN</td>\n",
       "    </tr>\n",
       "    <tr>\n",
       "      <th>19690</th>\n",
       "      <td>122</td>\n",
       "      <td>22-24</td>\n",
       "      <td>Male</td>\n",
       "      <td>India</td>\n",
       "      <td>Bachelor’s degree</td>\n",
       "      <td>Data Scientist</td>\n",
       "      <td>50-249 employees</td>\n",
       "      <td>1-2</td>\n",
       "    </tr>\n",
       "    <tr>\n",
       "      <th>19691</th>\n",
       "      <td>364</td>\n",
       "      <td>25-29</td>\n",
       "      <td>Male</td>\n",
       "      <td>Australia</td>\n",
       "      <td>Bachelor’s degree</td>\n",
       "      <td>Other</td>\n",
       "      <td>1000-9,999 employees</td>\n",
       "      <td>5-9</td>\n",
       "    </tr>\n",
       "    <tr>\n",
       "      <th>19692</th>\n",
       "      <td>290</td>\n",
       "      <td>30-34</td>\n",
       "      <td>Female</td>\n",
       "      <td>India</td>\n",
       "      <td>Master’s degree</td>\n",
       "      <td>Data Scientist</td>\n",
       "      <td>&gt; 10,000 employees</td>\n",
       "      <td>15-19</td>\n",
       "    </tr>\n",
       "    <tr>\n",
       "      <th>19693</th>\n",
       "      <td>108</td>\n",
       "      <td>35-39</td>\n",
       "      <td>Male</td>\n",
       "      <td>Japan</td>\n",
       "      <td>Bachelor’s degree</td>\n",
       "      <td>NaN</td>\n",
       "      <td>NaN</td>\n",
       "      <td>NaN</td>\n",
       "    </tr>\n",
       "    <tr>\n",
       "      <th>19694</th>\n",
       "      <td>111</td>\n",
       "      <td>25-29</td>\n",
       "      <td>Male</td>\n",
       "      <td>India</td>\n",
       "      <td>Master’s degree</td>\n",
       "      <td>Data Scientist</td>\n",
       "      <td>0-49 employees</td>\n",
       "      <td>3-4</td>\n",
       "    </tr>\n",
       "    <tr>\n",
       "      <th>19695</th>\n",
       "      <td>119</td>\n",
       "      <td>22-24</td>\n",
       "      <td>Female</td>\n",
       "      <td>India</td>\n",
       "      <td>Bachelor’s degree</td>\n",
       "      <td>Software Engineer</td>\n",
       "      <td>&gt; 10,000 employees</td>\n",
       "      <td>1-2</td>\n",
       "    </tr>\n",
       "    <tr>\n",
       "      <th>19696</th>\n",
       "      <td>55</td>\n",
       "      <td>25-29</td>\n",
       "      <td>Female</td>\n",
       "      <td>Japan</td>\n",
       "      <td>Bachelor’s degree</td>\n",
       "      <td>Software Engineer</td>\n",
       "      <td>NaN</td>\n",
       "      <td>NaN</td>\n",
       "    </tr>\n",
       "    <tr>\n",
       "      <th>19697</th>\n",
       "      <td>125</td>\n",
       "      <td>18-21</td>\n",
       "      <td>Prefer not to say</td>\n",
       "      <td>Australia</td>\n",
       "      <td>Bachelor’s degree</td>\n",
       "      <td>Student</td>\n",
       "      <td>NaN</td>\n",
       "      <td>NaN</td>\n",
       "    </tr>\n",
       "    <tr>\n",
       "      <th>19698</th>\n",
       "      <td>114</td>\n",
       "      <td>25-29</td>\n",
       "      <td>Male</td>\n",
       "      <td>India</td>\n",
       "      <td>Professional degree</td>\n",
       "      <td>Software Engineer</td>\n",
       "      <td>&gt; 10,000 employees</td>\n",
       "      <td>20+</td>\n",
       "    </tr>\n",
       "    <tr>\n",
       "      <th>19699</th>\n",
       "      <td>113</td>\n",
       "      <td>22-24</td>\n",
       "      <td>Male</td>\n",
       "      <td>India</td>\n",
       "      <td>Bachelor’s degree</td>\n",
       "      <td>Software Engineer</td>\n",
       "      <td>1000-9,999 employees</td>\n",
       "      <td>5-9</td>\n",
       "    </tr>\n",
       "    <tr>\n",
       "      <th>19700</th>\n",
       "      <td>1480</td>\n",
       "      <td>70+</td>\n",
       "      <td>Male</td>\n",
       "      <td>Brazil</td>\n",
       "      <td>Professional degree</td>\n",
       "      <td>Data Analyst</td>\n",
       "      <td>250-999 employees</td>\n",
       "      <td>1-2</td>\n",
       "    </tr>\n",
       "    <tr>\n",
       "      <th>19701</th>\n",
       "      <td>176</td>\n",
       "      <td>22-24</td>\n",
       "      <td>Male</td>\n",
       "      <td>Other</td>\n",
       "      <td>Bachelor’s degree</td>\n",
       "      <td>Software Engineer</td>\n",
       "      <td>0-49 employees</td>\n",
       "      <td>0</td>\n",
       "    </tr>\n",
       "    <tr>\n",
       "      <th>19702</th>\n",
       "      <td>275</td>\n",
       "      <td>18-21</td>\n",
       "      <td>Male</td>\n",
       "      <td>Pakistan</td>\n",
       "      <td>Bachelor’s degree</td>\n",
       "      <td>Student</td>\n",
       "      <td>NaN</td>\n",
       "      <td>NaN</td>\n",
       "    </tr>\n",
       "    <tr>\n",
       "      <th>19703</th>\n",
       "      <td>186</td>\n",
       "      <td>18-21</td>\n",
       "      <td>Male</td>\n",
       "      <td>India</td>\n",
       "      <td>Doctoral degree</td>\n",
       "      <td>Data Scientist</td>\n",
       "      <td>0-49 employees</td>\n",
       "      <td>0</td>\n",
       "    </tr>\n",
       "    <tr>\n",
       "      <th>19704</th>\n",
       "      <td>346</td>\n",
       "      <td>22-24</td>\n",
       "      <td>Male</td>\n",
       "      <td>India</td>\n",
       "      <td>Bachelor’s degree</td>\n",
       "      <td>Data Scientist</td>\n",
       "      <td>50-249 employees</td>\n",
       "      <td>3-4</td>\n",
       "    </tr>\n",
       "    <tr>\n",
       "      <th>19705</th>\n",
       "      <td>400</td>\n",
       "      <td>18-21</td>\n",
       "      <td>Male</td>\n",
       "      <td>China</td>\n",
       "      <td>Bachelor’s degree</td>\n",
       "      <td>Student</td>\n",
       "      <td>NaN</td>\n",
       "      <td>NaN</td>\n",
       "    </tr>\n",
       "    <tr>\n",
       "      <th>19706</th>\n",
       "      <td>52</td>\n",
       "      <td>18-21</td>\n",
       "      <td>Male</td>\n",
       "      <td>India</td>\n",
       "      <td>NaN</td>\n",
       "      <td>NaN</td>\n",
       "      <td>NaN</td>\n",
       "      <td>NaN</td>\n",
       "    </tr>\n",
       "    <tr>\n",
       "      <th>19707</th>\n",
       "      <td>147</td>\n",
       "      <td>18-21</td>\n",
       "      <td>Male</td>\n",
       "      <td>India</td>\n",
       "      <td>Bachelor’s degree</td>\n",
       "      <td>Data Engineer</td>\n",
       "      <td>0-49 employees</td>\n",
       "      <td>0</td>\n",
       "    </tr>\n",
       "    <tr>\n",
       "      <th>19708</th>\n",
       "      <td>181</td>\n",
       "      <td>18-21</td>\n",
       "      <td>Male</td>\n",
       "      <td>Viet Nam</td>\n",
       "      <td>NaN</td>\n",
       "      <td>NaN</td>\n",
       "      <td>NaN</td>\n",
       "      <td>NaN</td>\n",
       "    </tr>\n",
       "    <tr>\n",
       "      <th>19709</th>\n",
       "      <td>261</td>\n",
       "      <td>25-29</td>\n",
       "      <td>Female</td>\n",
       "      <td>India</td>\n",
       "      <td>Professional degree</td>\n",
       "      <td>Not employed</td>\n",
       "      <td>NaN</td>\n",
       "      <td>NaN</td>\n",
       "    </tr>\n",
       "    <tr>\n",
       "      <th>19710</th>\n",
       "      <td>88</td>\n",
       "      <td>25-29</td>\n",
       "      <td>Prefer not to say</td>\n",
       "      <td>Austria</td>\n",
       "      <td>No formal education past high school</td>\n",
       "      <td>Data Scientist</td>\n",
       "      <td>250-999 employees</td>\n",
       "      <td>1-2</td>\n",
       "    </tr>\n",
       "    <tr>\n",
       "      <th>19711</th>\n",
       "      <td>85</td>\n",
       "      <td>22-24</td>\n",
       "      <td>Male</td>\n",
       "      <td>India</td>\n",
       "      <td>Bachelor’s degree</td>\n",
       "      <td>Data Scientist</td>\n",
       "      <td>50-249 employees</td>\n",
       "      <td>NaN</td>\n",
       "    </tr>\n",
       "    <tr>\n",
       "      <th>19712</th>\n",
       "      <td>157</td>\n",
       "      <td>18-21</td>\n",
       "      <td>Male</td>\n",
       "      <td>India</td>\n",
       "      <td>Master’s degree</td>\n",
       "      <td>Student</td>\n",
       "      <td>NaN</td>\n",
       "      <td>NaN</td>\n",
       "    </tr>\n",
       "    <tr>\n",
       "      <th>19713</th>\n",
       "      <td>84</td>\n",
       "      <td>50-54</td>\n",
       "      <td>Male</td>\n",
       "      <td>Japan</td>\n",
       "      <td>NaN</td>\n",
       "      <td>NaN</td>\n",
       "      <td>NaN</td>\n",
       "      <td>NaN</td>\n",
       "    </tr>\n",
       "    <tr>\n",
       "      <th>19714</th>\n",
       "      <td>473</td>\n",
       "      <td>18-21</td>\n",
       "      <td>Male</td>\n",
       "      <td>India</td>\n",
       "      <td>Bachelor’s degree</td>\n",
       "      <td>Other</td>\n",
       "      <td>250-999 employees</td>\n",
       "      <td>3-4</td>\n",
       "    </tr>\n",
       "    <tr>\n",
       "      <th>19715</th>\n",
       "      <td>9195</td>\n",
       "      <td>35-39</td>\n",
       "      <td>Male</td>\n",
       "      <td>India</td>\n",
       "      <td>Master’s degree</td>\n",
       "      <td>Student</td>\n",
       "      <td>NaN</td>\n",
       "      <td>NaN</td>\n",
       "    </tr>\n",
       "    <tr>\n",
       "      <th>19716</th>\n",
       "      <td>176</td>\n",
       "      <td>25-29</td>\n",
       "      <td>Male</td>\n",
       "      <td>India</td>\n",
       "      <td>Master’s degree</td>\n",
       "      <td>Statistician</td>\n",
       "      <td>50-249 employees</td>\n",
       "      <td>15-19</td>\n",
       "    </tr>\n",
       "    <tr>\n",
       "      <th>19717</th>\n",
       "      <td>567</td>\n",
       "      <td>50-54</td>\n",
       "      <td>Male</td>\n",
       "      <td>France</td>\n",
       "      <td>Bachelor’s degree</td>\n",
       "      <td>Software Engineer</td>\n",
       "      <td>&gt; 10,000 employees</td>\n",
       "      <td>20+</td>\n",
       "    </tr>\n",
       "  </tbody>\n",
       "</table>\n",
       "<p>19717 rows × 8 columns</p>\n",
       "</div>"
      ],
      "text/plain": [
       "      Time from Start to Finish (seconds)     Q1                 Q2  \\\n",
       "1                                     510  22-24               Male   \n",
       "2                                     423  40-44               Male   \n",
       "3                                      83  55-59             Female   \n",
       "4                                     391  40-44               Male   \n",
       "5                                     392  22-24               Male   \n",
       "6                                     470  50-54               Male   \n",
       "7                                     529  22-24               Male   \n",
       "8                                     624  22-24             Female   \n",
       "9                                     214  22-24               Male   \n",
       "10                                    691  55-59               Male   \n",
       "11                                    290  18-21               Male   \n",
       "12                                    459  30-34               Male   \n",
       "13                                    397  30-34               Male   \n",
       "14                                    372  30-34               Male   \n",
       "15                                    524  25-29               Male   \n",
       "16                                    485  50-54             Female   \n",
       "17                                    426  18-21               Male   \n",
       "18                                    420  18-21               Male   \n",
       "19                                    756  35-39               Male   \n",
       "20                                    368  25-29               Male   \n",
       "21                                   1529  22-24             Female   \n",
       "22                                    979  35-39               Male   \n",
       "23                                    691  25-29               Male   \n",
       "24                                   1146  40-44               Male   \n",
       "25                                    377  25-29               Male   \n",
       "26                                    379  30-34               Male   \n",
       "27                                    353  35-39               Male   \n",
       "28                                    518  25-29               Male   \n",
       "29                                    528  30-34             Female   \n",
       "30                                    615  25-29             Female   \n",
       "...                                   ...    ...                ...   \n",
       "19688                                 390  25-29               Male   \n",
       "19689                                 257  22-24               Male   \n",
       "19690                                 122  22-24               Male   \n",
       "19691                                 364  25-29               Male   \n",
       "19692                                 290  30-34             Female   \n",
       "19693                                 108  35-39               Male   \n",
       "19694                                 111  25-29               Male   \n",
       "19695                                 119  22-24             Female   \n",
       "19696                                  55  25-29             Female   \n",
       "19697                                 125  18-21  Prefer not to say   \n",
       "19698                                 114  25-29               Male   \n",
       "19699                                 113  22-24               Male   \n",
       "19700                                1480    70+               Male   \n",
       "19701                                 176  22-24               Male   \n",
       "19702                                 275  18-21               Male   \n",
       "19703                                 186  18-21               Male   \n",
       "19704                                 346  22-24               Male   \n",
       "19705                                 400  18-21               Male   \n",
       "19706                                  52  18-21               Male   \n",
       "19707                                 147  18-21               Male   \n",
       "19708                                 181  18-21               Male   \n",
       "19709                                 261  25-29             Female   \n",
       "19710                                  88  25-29  Prefer not to say   \n",
       "19711                                  85  22-24               Male   \n",
       "19712                                 157  18-21               Male   \n",
       "19713                                  84  50-54               Male   \n",
       "19714                                 473  18-21               Male   \n",
       "19715                                9195  35-39               Male   \n",
       "19716                                 176  25-29               Male   \n",
       "19717                                 567  50-54               Male   \n",
       "\n",
       "                             Q3  \\\n",
       "1                        France   \n",
       "2                         India   \n",
       "3                       Germany   \n",
       "4                     Australia   \n",
       "5                         India   \n",
       "6                        France   \n",
       "7                         India   \n",
       "8      United States of America   \n",
       "9      United States of America   \n",
       "10                  Netherlands   \n",
       "11                        India   \n",
       "12                      Germany   \n",
       "13                      Germany   \n",
       "14     United States of America   \n",
       "15                        India   \n",
       "16     United States of America   \n",
       "17                    Australia   \n",
       "18                        India   \n",
       "19                       France   \n",
       "20                       France   \n",
       "21                      Ireland   \n",
       "22     United States of America   \n",
       "23                        India   \n",
       "24                       Russia   \n",
       "25                       Greece   \n",
       "26                       Greece   \n",
       "27                        India   \n",
       "28     United States of America   \n",
       "29                      Ukraine   \n",
       "30                     Pakistan   \n",
       "...                         ...   \n",
       "19688                     India   \n",
       "19689                Bangladesh   \n",
       "19690                     India   \n",
       "19691                 Australia   \n",
       "19692                     India   \n",
       "19693                     Japan   \n",
       "19694                     India   \n",
       "19695                     India   \n",
       "19696                     Japan   \n",
       "19697                 Australia   \n",
       "19698                     India   \n",
       "19699                     India   \n",
       "19700                    Brazil   \n",
       "19701                     Other   \n",
       "19702                  Pakistan   \n",
       "19703                     India   \n",
       "19704                     India   \n",
       "19705                     China   \n",
       "19706                     India   \n",
       "19707                     India   \n",
       "19708                  Viet Nam   \n",
       "19709                     India   \n",
       "19710                   Austria   \n",
       "19711                     India   \n",
       "19712                     India   \n",
       "19713                     Japan   \n",
       "19714                     India   \n",
       "19715                     India   \n",
       "19716                     India   \n",
       "19717                    France   \n",
       "\n",
       "                                                      Q4  \\\n",
       "1                                        Master’s degree   \n",
       "2                                    Professional degree   \n",
       "3                                    Professional degree   \n",
       "4                                        Master’s degree   \n",
       "5                                      Bachelor’s degree   \n",
       "6                                        Master’s degree   \n",
       "7                                        Master’s degree   \n",
       "8                                      Bachelor’s degree   \n",
       "9                                      Bachelor’s degree   \n",
       "10                                       Master’s degree   \n",
       "11     Some college/university study without earning ...   \n",
       "12                                       Master’s degree   \n",
       "13                                     Bachelor’s degree   \n",
       "14                                       Master’s degree   \n",
       "15                                     Bachelor’s degree   \n",
       "16                                       Master’s degree   \n",
       "17                                     Bachelor’s degree   \n",
       "18     Some college/university study without earning ...   \n",
       "19                                       Master’s degree   \n",
       "20                                       Doctoral degree   \n",
       "21                                       Master’s degree   \n",
       "22                                     Bachelor’s degree   \n",
       "23                                       Master’s degree   \n",
       "24                                       Master’s degree   \n",
       "25                                       Master’s degree   \n",
       "26                                       Master’s degree   \n",
       "27                                       Master’s degree   \n",
       "28                                       Doctoral degree   \n",
       "29                                       Doctoral degree   \n",
       "30                                       Master’s degree   \n",
       "...                                                  ...   \n",
       "19688                                  Bachelor’s degree   \n",
       "19689                                  Bachelor’s degree   \n",
       "19690                                  Bachelor’s degree   \n",
       "19691                                  Bachelor’s degree   \n",
       "19692                                    Master’s degree   \n",
       "19693                                  Bachelor’s degree   \n",
       "19694                                    Master’s degree   \n",
       "19695                                  Bachelor’s degree   \n",
       "19696                                  Bachelor’s degree   \n",
       "19697                                  Bachelor’s degree   \n",
       "19698                                Professional degree   \n",
       "19699                                  Bachelor’s degree   \n",
       "19700                                Professional degree   \n",
       "19701                                  Bachelor’s degree   \n",
       "19702                                  Bachelor’s degree   \n",
       "19703                                    Doctoral degree   \n",
       "19704                                  Bachelor’s degree   \n",
       "19705                                  Bachelor’s degree   \n",
       "19706                                                NaN   \n",
       "19707                                  Bachelor’s degree   \n",
       "19708                                                NaN   \n",
       "19709                                Professional degree   \n",
       "19710               No formal education past high school   \n",
       "19711                                  Bachelor’s degree   \n",
       "19712                                    Master’s degree   \n",
       "19713                                                NaN   \n",
       "19714                                  Bachelor’s degree   \n",
       "19715                                    Master’s degree   \n",
       "19716                                    Master’s degree   \n",
       "19717                                  Bachelor’s degree   \n",
       "\n",
       "                            Q5                    Q6     Q7  \n",
       "1            Software Engineer  1000-9,999 employees      0  \n",
       "2            Software Engineer    > 10,000 employees    20+  \n",
       "3                          NaN                   NaN    NaN  \n",
       "4                        Other    > 10,000 employees    20+  \n",
       "5                        Other        0-49 employees      0  \n",
       "6               Data Scientist        0-49 employees    3-4  \n",
       "7               Data Scientist      50-249 employees    20+  \n",
       "8               Data Scientist    > 10,000 employees    20+  \n",
       "9                      Student                   NaN    NaN  \n",
       "10                       Other        0-49 employees    1-2  \n",
       "11                     Student                   NaN    NaN  \n",
       "12                Statistician        0-49 employees    5-9  \n",
       "13              Data Scientist      50-249 employees    5-9  \n",
       "14     Product/Project Manager    > 10,000 employees    20+  \n",
       "15                       Other  1000-9,999 employees    NaN  \n",
       "16                Data Analyst      50-249 employees    1-2  \n",
       "17           Software Engineer        0-49 employees    1-2  \n",
       "18                     Student                   NaN    NaN  \n",
       "19     Product/Project Manager    > 10,000 employees    20+  \n",
       "20          Research Scientist      50-249 employees    3-4  \n",
       "21                Data Analyst  1000-9,999 employees  10-14  \n",
       "22                       Other     250-999 employees  10-14  \n",
       "23            Business Analyst    > 10,000 employees      0  \n",
       "24           Software Engineer      50-249 employees    1-2  \n",
       "25          Research Scientist     250-999 employees    20+  \n",
       "26           Software Engineer        0-49 employees      0  \n",
       "27           Software Engineer        0-49 employees    1-2  \n",
       "28                     Student                   NaN    NaN  \n",
       "29          Research Scientist  1000-9,999 employees    3-4  \n",
       "30          Research Scientist        0-49 employees  10-14  \n",
       "...                        ...                   ...    ...  \n",
       "19688             Not employed                   NaN    NaN  \n",
       "19689             Not employed                   NaN    NaN  \n",
       "19690           Data Scientist      50-249 employees    1-2  \n",
       "19691                    Other  1000-9,999 employees    5-9  \n",
       "19692           Data Scientist    > 10,000 employees  15-19  \n",
       "19693                      NaN                   NaN    NaN  \n",
       "19694           Data Scientist        0-49 employees    3-4  \n",
       "19695        Software Engineer    > 10,000 employees    1-2  \n",
       "19696        Software Engineer                   NaN    NaN  \n",
       "19697                  Student                   NaN    NaN  \n",
       "19698        Software Engineer    > 10,000 employees    20+  \n",
       "19699        Software Engineer  1000-9,999 employees    5-9  \n",
       "19700             Data Analyst     250-999 employees    1-2  \n",
       "19701        Software Engineer        0-49 employees      0  \n",
       "19702                  Student                   NaN    NaN  \n",
       "19703           Data Scientist        0-49 employees      0  \n",
       "19704           Data Scientist      50-249 employees    3-4  \n",
       "19705                  Student                   NaN    NaN  \n",
       "19706                      NaN                   NaN    NaN  \n",
       "19707            Data Engineer        0-49 employees      0  \n",
       "19708                      NaN                   NaN    NaN  \n",
       "19709             Not employed                   NaN    NaN  \n",
       "19710           Data Scientist     250-999 employees    1-2  \n",
       "19711           Data Scientist      50-249 employees    NaN  \n",
       "19712                  Student                   NaN    NaN  \n",
       "19713                      NaN                   NaN    NaN  \n",
       "19714                    Other     250-999 employees    3-4  \n",
       "19715                  Student                   NaN    NaN  \n",
       "19716             Statistician      50-249 employees  15-19  \n",
       "19717        Software Engineer    > 10,000 employees    20+  \n",
       "\n",
       "[19717 rows x 8 columns]"
      ]
     },
     "execution_count": 24,
     "metadata": {},
     "output_type": "execute_result"
    }
   ],
   "source": [
    "df_b"
   ]
  },
  {
   "cell_type": "code",
   "execution_count": 25,
   "metadata": {},
   "outputs": [],
   "source": [
    "t=numriser(df[\"Time from Start to Finish (seconds)\"])"
   ]
  },
  {
   "cell_type": "code",
   "execution_count": 26,
   "metadata": {},
   "outputs": [],
   "source": [
    "m=np.repeat(np.mean(t),len(t))\n",
    "me=np.repeat(np.median(t),len(t))\n",
    "plt_df=DataFrame([m,me,t],index=[\"mean\",\"median\",\"obs\"]).T"
   ]
  },
  {
   "cell_type": "code",
   "execution_count": 27,
   "metadata": {},
   "outputs": [
    {
     "data": {
      "text/plain": [
       "<matplotlib.axes._subplots.AxesSubplot at 0x1e3c7c0f7f0>"
      ]
     },
     "execution_count": 27,
     "metadata": {},
     "output_type": "execute_result"
    },
    {
     "data": {
      "image/png": "[encoded data removed]",
      "text/plain": [
       "<Figure size 1440x360 with 1 Axes>"
      ]
     },
     "metadata": {
      "needs_background": "light"
     },
     "output_type": "display_data"
    }
   ],
   "source": [
    "plt_df[\"obs\"].plot(figsize=(20,5),alpha=.5,color=\"yellow\")\n",
    "plt_df[\"median\"].plot(figsize=(20,5),alpha=1,color=\"black\")\n",
    "plt_df[\"mean\"].plot(figsize=(20,5),alpha=1,color=\"black\")"
   ]
  },
  {
   "cell_type": "code",
   "execution_count": 28,
   "metadata": {},
   "outputs": [
    {
     "data": {
      "text/html": [
       "<div>\n",
       "<style scoped>\n",
       "    .dataframe tbody tr th:only-of-type {\n",
       "        vertical-align: middle;\n",
       "    }\n",
       "\n",
       "    .dataframe tbody tr th {\n",
       "        vertical-align: top;\n",
       "    }\n",
       "\n",
       "    .dataframe thead th {\n",
       "        text-align: right;\n",
       "    }\n",
       "</style>\n",
       "<table border=\"1\" class=\"dataframe\">\n",
       "  <thead>\n",
       "    <tr style=\"text-align: right;\">\n",
       "      <th></th>\n",
       "      <th>0</th>\n",
       "    </tr>\n",
       "  </thead>\n",
       "  <tbody>\n",
       "    <tr>\n",
       "      <th>count</th>\n",
       "      <td>19717.000000</td>\n",
       "    </tr>\n",
       "    <tr>\n",
       "      <th>mean</th>\n",
       "      <td>14341.281027</td>\n",
       "    </tr>\n",
       "    <tr>\n",
       "      <th>std</th>\n",
       "      <td>74166.106601</td>\n",
       "    </tr>\n",
       "    <tr>\n",
       "      <th>min</th>\n",
       "      <td>23.000000</td>\n",
       "    </tr>\n",
       "    <tr>\n",
       "      <th>25%</th>\n",
       "      <td>340.000000</td>\n",
       "    </tr>\n",
       "    <tr>\n",
       "      <th>50%</th>\n",
       "      <td>540.000000</td>\n",
       "    </tr>\n",
       "    <tr>\n",
       "      <th>75%</th>\n",
       "      <td>930.000000</td>\n",
       "    </tr>\n",
       "    <tr>\n",
       "      <th>max</th>\n",
       "      <td>843612.000000</td>\n",
       "    </tr>\n",
       "  </tbody>\n",
       "</table>\n",
       "</div>"
      ],
      "text/plain": [
       "                   0\n",
       "count   19717.000000\n",
       "mean    14341.281027\n",
       "std     74166.106601\n",
       "min        23.000000\n",
       "25%       340.000000\n",
       "50%       540.000000\n",
       "75%       930.000000\n",
       "max    843612.000000"
      ]
     },
     "execution_count": 28,
     "metadata": {},
     "output_type": "execute_result"
    }
   ],
   "source": [
    "DataFrame(t).describe()"
   ]
  },
  {
   "cell_type": "markdown",
   "metadata": {},
   "source": [
    "This broad skewness indicates the fact that a few percent of people did not respond to the survey seriously and thus did not  give a lot of time...\n",
    "On the other hand we have those people who took the survey seriouly an thus gave alot of time but the combined effect of the two is leading the mean to fall down.\n",
    "so we consider 200000 as the point below which we do not cosider the respondents response as a serious one"
   ]
  },
  {
   "cell_type": "code",
   "execution_count": 29,
   "metadata": {},
   "outputs": [],
   "source": [
    "t1=co(200000)"
   ]
  },
  {
   "cell_type": "code",
   "execution_count": 30,
   "metadata": {},
   "outputs": [],
   "source": [
    "m=np.repeat(np.mean(t1),len(t1))\n",
    "me=np.repeat(np.median(t1),len(t1))\n",
    "plt_df=DataFrame([m,me,t1],index=[\"mean\",\"median\",\"obs\"]).T"
   ]
  },
  {
   "cell_type": "code",
   "execution_count": 31,
   "metadata": {},
   "outputs": [
    {
     "data": {
      "text/plain": [
       "<matplotlib.axes._subplots.AxesSubplot at 0x1e3c6de3160>"
      ]
     },
     "execution_count": 31,
     "metadata": {},
     "output_type": "execute_result"
    },
    {
     "data": {
      "image/png": "[encoded data removed]",
      "text/plain": [
       "<Figure size 1440x360 with 1 Axes>"
      ]
     },
     "metadata": {
      "needs_background": "light"
     },
     "output_type": "display_data"
    }
   ],
   "source": [
    "plt_df[\"obs\"].plot(figsize=(20,5),alpha=.8,color=\"yellow\")\n",
    "plt_df[\"median\"].plot(figsize=(20,5),alpha=1,color=\"black\")\n",
    "plt_df[\"mean\"].plot(figsize=(20,5),alpha=1,color=\"black\")"
   ]
  },
  {
   "cell_type": "code",
   "execution_count": 32,
   "metadata": {},
   "outputs": [
    {
     "data": {
      "text/plain": [
       "470590.38279569894"
      ]
     },
     "execution_count": 32,
     "metadata": {},
     "output_type": "execute_result"
    }
   ],
   "source": [
    "m[0]  #this is the mean of the those people who are really filling our form "
   ]
  },
  {
   "cell_type": "code",
   "execution_count": 33,
   "metadata": {},
   "outputs": [
    {
     "data": {
      "text/plain": [
       "2.358370948927322"
      ]
     },
     "execution_count": 33,
     "metadata": {},
     "output_type": "execute_result"
    }
   ],
   "source": [
    "(len(t1)/len(t))*100             #this response rate indicates that above only 2% people took more than 200000 time "
   ]
  },
  {
   "cell_type": "code",
   "execution_count": 34,
   "metadata": {},
   "outputs": [],
   "source": [
    "tp1=[]\n",
    "mx=max(t)\n",
    "for i in np.arange(0,mx,10000):\n",
    "    t11=co(i)\n",
    "    t12=len(t11)\n",
    "    tp=(t12/len(t))*100\n",
    "    tp1=np.append(tp1,tp)"
   ]
  },
  {
   "cell_type": "code",
   "execution_count": 35,
   "metadata": {},
   "outputs": [
    {
     "data": {
      "text/plain": [
       "Text(0, 0.5, 'response_rate')"
      ]
     },
     "execution_count": 35,
     "metadata": {},
     "output_type": "execute_result"
    },
    {
     "data": {
      "image/png": "[encoded data removed]",
      "text/plain": [
       "<Figure size 432x288 with 1 Axes>"
      ]
     },
     "metadata": {
      "needs_background": "light"
     },
     "output_type": "display_data"
    }
   ],
   "source": [
    "plt.plot(np.arange(0,mx,10000),tp1)\n",
    "plt.xlabel(\"percentage\",size=20)\n",
    "plt.ylabel(\"response_rate\",size=20)"
   ]
  },
  {
   "cell_type": "markdown",
   "metadata": {},
   "source": [
    "# age specified"
   ]
  },
  {
   "cell_type": "code",
   "execution_count": 113,
   "metadata": {},
   "outputs": [],
   "source": [
    "t=dnumriser((df[\"Q1\"]))"
   ]
  },
  {
   "cell_type": "code",
   "execution_count": 114,
   "metadata": {},
   "outputs": [],
   "source": [
    "m=np.repeat(np.mean(t),len(t))\n",
    "me=np.repeat(np.median(t),len(t))\n",
    "plt_df=DataFrame([m,me,t],index=[\"mean\",\"median\",\"obs\"]).T"
   ]
  },
  {
   "cell_type": "code",
   "execution_count": 116,
   "metadata": {},
   "outputs": [
    {
     "data": {
      "text/plain": [
       "<matplotlib.axes._subplots.AxesSubplot at 0x1e3c6fe7a20>"
      ]
     },
     "execution_count": 116,
     "metadata": {},
     "output_type": "execute_result"
    },
    {
     "data": {
      "image/png": "[encoded data removed]",
      "text/plain": [
       "<Figure size 1440x360 with 1 Axes>"
      ]
     },
     "metadata": {
      "needs_background": "light"
     },
     "output_type": "display_data"
    }
   ],
   "source": [
    "plt_df[\"obs\"].plot(figsize=(20,5),alpha=.5,color=\"yellow\")\n",
    "#plt_df[\"median\"].plot(figsize=(20,5),alpha=1,color=\"black\")\n",
    "plt_df[\"mean\"].plot(figsize=(20,5),alpha=1,color=\"black\")"
   ]
  },
  {
   "cell_type": "code",
   "execution_count": null,
   "metadata": {},
   "outputs": [],
   "source": [
    "#so 31 is the vaerage age of the respondents for the survey this year"
   ]
  },
  {
   "cell_type": "code",
   "execution_count": 117,
   "metadata": {},
   "outputs": [
    {
     "data": {
      "text/html": [
       "<div>\n",
       "<style scoped>\n",
       "    .dataframe tbody tr th:only-of-type {\n",
       "        vertical-align: middle;\n",
       "    }\n",
       "\n",
       "    .dataframe tbody tr th {\n",
       "        vertical-align: top;\n",
       "    }\n",
       "\n",
       "    .dataframe thead th {\n",
       "        text-align: right;\n",
       "    }\n",
       "</style>\n",
       "<table border=\"1\" class=\"dataframe\">\n",
       "  <thead>\n",
       "    <tr style=\"text-align: right;\">\n",
       "      <th></th>\n",
       "      <th>0</th>\n",
       "    </tr>\n",
       "  </thead>\n",
       "  <tbody>\n",
       "    <tr>\n",
       "      <th>count</th>\n",
       "      <td>19716.000000</td>\n",
       "    </tr>\n",
       "    <tr>\n",
       "      <th>mean</th>\n",
       "      <td>31.602353</td>\n",
       "    </tr>\n",
       "    <tr>\n",
       "      <th>std</th>\n",
       "      <td>10.665986</td>\n",
       "    </tr>\n",
       "    <tr>\n",
       "      <th>min</th>\n",
       "      <td>19.500000</td>\n",
       "    </tr>\n",
       "    <tr>\n",
       "      <th>25%</th>\n",
       "      <td>23.000000</td>\n",
       "    </tr>\n",
       "    <tr>\n",
       "      <th>50%</th>\n",
       "      <td>27.000000</td>\n",
       "    </tr>\n",
       "    <tr>\n",
       "      <th>75%</th>\n",
       "      <td>37.000000</td>\n",
       "    </tr>\n",
       "    <tr>\n",
       "      <th>max</th>\n",
       "      <td>70.000000</td>\n",
       "    </tr>\n",
       "  </tbody>\n",
       "</table>\n",
       "</div>"
      ],
      "text/plain": [
       "                  0\n",
       "count  19716.000000\n",
       "mean      31.602353\n",
       "std       10.665986\n",
       "min       19.500000\n",
       "25%       23.000000\n",
       "50%       27.000000\n",
       "75%       37.000000\n",
       "max       70.000000"
      ]
     },
     "execution_count": 117,
     "metadata": {},
     "output_type": "execute_result"
    }
   ],
   "source": [
    "DataFrame(t).describe()"
   ]
  },
  {
   "cell_type": "code",
   "execution_count": 118,
   "metadata": {},
   "outputs": [],
   "source": [
    "#persentage wise disribution of age "
   ]
  },
  {
   "cell_type": "code",
   "execution_count": 168,
   "metadata": {},
   "outputs": [],
   "source": [
    "a1=0;a2=0;a3=0;a4=0;a5=0;\n",
    "for i in np.arange(len(t)):\n",
    "    if (t[i]>20) & (t[i]<30):\n",
    "        a1=a1+1\n",
    "        a11=((a1+1)/len(t))*100\n",
    "    elif (t[i]>30) & (t[i]<40):\n",
    "        a2=a2+1\n",
    "        a21=((a2+1)/len(t))*100\n",
    "    elif (t[i]>40) & (t[i]<50):\n",
    "        a3=a3+1\n",
    "        a31=((a3+1)/len(t))*100\n",
    "    elif (t[i]>50) & (t[i]<60):\n",
    "        a4=a4+1\n",
    "        a41=((a4+1)/len(t))*100\n",
    "    elif (t[i]>60) & (t[i]<70):\n",
    "        a5=a5+1\n",
    "        a15=((a5+1)/len(t))*100"
   ]
  },
  {
   "cell_type": "code",
   "execution_count": 169,
   "metadata": {},
   "outputs": [
    {
     "data": {
      "text/plain": [
       "Text(0, 0.5, 'fraction of respondents')"
      ]
     },
     "execution_count": 169,
     "metadata": {},
     "output_type": "execute_result"
    },
    {
     "data": {
      "image/png": "[encoded data removed]",
      "text/plain": [
       "<Figure size 432x288 with 1 Axes>"
      ]
     },
     "metadata": {
      "needs_background": "light"
     },
     "output_type": "display_data"
    }
   ],
   "source": [
    "a=[a11,a21,a31,a41,a15]\n",
    "sns.kdeplot(a,cumulative=True,color=\"red\",shade=True)\n",
    "plt.xlabel(\"age\",size=20)\n",
    "plt.ylabel(\"fraction of respondents\",size=20)"
   ]
  },
  {
   "cell_type": "code",
   "execution_count": 170,
   "metadata": {},
   "outputs": [
    {
     "data": {
      "text/plain": [
       "([<matplotlib.patches.Wedge at 0x1e3d8f2a358>,\n",
       "  <matplotlib.patches.Wedge at 0x1e3d8f2a860>,\n",
       "  <matplotlib.patches.Wedge at 0x1e3d8f2ad30>,\n",
       "  <matplotlib.patches.Wedge at 0x1e3d8f371d0>,\n",
       "  <matplotlib.patches.Wedge at 0x1e3d8f376a0>],\n",
       " [Text(0.09888182397324088, 1.0955466146575987, '20-30'),\n",
       "  Text(-0.7853104439147295, -0.7702515866120957, '30-40'),\n",
       "  Text(0.620275495928398, -0.9084372896082481, '40-50'),\n",
       "  Text(1.0410527153991764, -0.35525940347864315, '50-60'),\n",
       "  Text(1.0978720400613229, -0.06838847601452405, '60-70')])"
      ]
     },
     "execution_count": 170,
     "metadata": {},
     "output_type": "execute_result"
    },
    {
     "data": {
      "image/png": "[encoded data removed]",
      "text/plain": [
       "<Figure size 432x288 with 1 Axes>"
      ]
     },
     "metadata": {},
     "output_type": "display_data"
    }
   ],
   "source": [
    "plt.pie(a,labels=[\"20-30\",\"30-40\",\"40-50\",\"50-60\",\"60-70\"])"
   ]
  },
  {
   "cell_type": "code",
   "execution_count": null,
   "metadata": {},
   "outputs": [],
   "source": [
    "#gender_wise clssification"
   ]
  },
  {
   "cell_type": "code",
   "execution_count": 174,
   "metadata": {},
   "outputs": [],
   "source": [
    "m=0;f=0;\n",
    "for i in np.arange(1,len(df[\"Q2\"])):\n",
    "    if (df[\"Q2\"][i])==\"Male\":\n",
    "        m=m+1\n",
    "        mp=(m/len(df[\"Q2\"]))*100\n",
    "    elif (df[\"Q2\"][i])==\"Female\":\n",
    "        f=f+1\n",
    "        fp=(f/len(df[\"Q2\"]))*100"
   ]
  },
  {
   "cell_type": "code",
   "execution_count": 181,
   "metadata": {},
   "outputs": [
    {
     "data": {
      "text/plain": [
       "[81.8430795760004, 16.290510726783992, 34.447431150783586]"
      ]
     },
     "execution_count": 181,
     "metadata": {},
     "output_type": "execute_result"
    }
   ],
   "source": [
    "gp=[mp,fp,abs(100-mp+fp)]\n",
    "gp"
   ]
  },
  {
   "cell_type": "code",
   "execution_count": 184,
   "metadata": {},
   "outputs": [
    {
     "data": {
      "text/plain": [
       "([<matplotlib.patches.Wedge at 0x1e3d8dc6400>,\n",
       "  <matplotlib.patches.Wedge at 0x1e3d8dc6898>,\n",
       "  <matplotlib.patches.Wedge at 0x1e3d8dc6d68>],\n",
       " [Text(-0.3962669445226508, 1.026144487233003, 'Male'),\n",
       "  Text(-0.47620864433990956, -0.991577191677958, 'Female'),\n",
       "  Text(0.7534504897662864, -0.8014439216008462, 'Prefer not to say')])"
      ]
     },
     "execution_count": 184,
     "metadata": {},
     "output_type": "execute_result"
    },
    {
     "data": {
      "image/png": "[encoded data removed]",
      "text/plain": [
       "<Figure size 432x288 with 1 Axes>"
      ]
     },
     "metadata": {},
     "output_type": "display_data"
    }
   ],
   "source": [
    "plt.pie(gp,labels=[\"Male\",\"Female\",\"Prefer not to say\"])"
   ]
  },
  {
   "cell_type": "code",
   "execution_count": 179,
   "metadata": {},
   "outputs": [],
   "source": [
    "#country_wise_study"
   ]
  },
  {
   "cell_type": "code",
   "execution_count": 191,
   "metadata": {},
   "outputs": [],
   "source": [
    "t=df[\"Q3\"]\n",
    "cn=len(np.unique(t))\n",
    "c=(np.unique(t))"
   ]
  },
  {
   "cell_type": "code",
   "execution_count": 213,
   "metadata": {},
   "outputs": [],
   "source": [
    "a=[]\n",
    "for i in c:\n",
    "    a=np.append(a,(cc(df[\"Q3\"],i)/len(t))*100)"
   ]
  },
  {
   "cell_type": "code",
   "execution_count": 239,
   "metadata": {},
   "outputs": [],
   "source": [
    "df_c=DataFrame([a],columns=c,index=[\"percent\"]).T"
   ]
  },
  {
   "cell_type": "code",
   "execution_count": 265,
   "metadata": {},
   "outputs": [
    {
     "data": {
      "text/html": [
       "<div>\n",
       "<style scoped>\n",
       "    .dataframe tbody tr th:only-of-type {\n",
       "        vertical-align: middle;\n",
       "    }\n",
       "\n",
       "    .dataframe tbody tr th {\n",
       "        vertical-align: top;\n",
       "    }\n",
       "\n",
       "    .dataframe thead th {\n",
       "        text-align: right;\n",
       "    }\n",
       "</style>\n",
       "<table border=\"1\" class=\"dataframe\">\n",
       "  <thead>\n",
       "    <tr style=\"text-align: right;\">\n",
       "      <th></th>\n",
       "      <th>percent</th>\n",
       "    </tr>\n",
       "  </thead>\n",
       "  <tbody>\n",
       "    <tr>\n",
       "      <th>India</th>\n",
       "      <td>24.273470</td>\n",
       "    </tr>\n",
       "    <tr>\n",
       "      <th>United States of America</th>\n",
       "      <td>15.646397</td>\n",
       "    </tr>\n",
       "    <tr>\n",
       "      <th>Other</th>\n",
       "      <td>5.345641</td>\n",
       "    </tr>\n",
       "    <tr>\n",
       "      <th>Brazil</th>\n",
       "      <td>3.692245</td>\n",
       "    </tr>\n",
       "    <tr>\n",
       "      <th>Japan</th>\n",
       "      <td>3.413298</td>\n",
       "    </tr>\n",
       "    <tr>\n",
       "      <th>Russia</th>\n",
       "      <td>3.174925</td>\n",
       "    </tr>\n",
       "    <tr>\n",
       "      <th>China</th>\n",
       "      <td>2.911193</td>\n",
       "    </tr>\n",
       "    <tr>\n",
       "      <th>Germany</th>\n",
       "      <td>2.693107</td>\n",
       "    </tr>\n",
       "    <tr>\n",
       "      <th>United Kingdom of Great Britain and Northern Ireland</th>\n",
       "      <td>2.444591</td>\n",
       "    </tr>\n",
       "    <tr>\n",
       "      <th>Canada</th>\n",
       "      <td>2.282294</td>\n",
       "    </tr>\n",
       "    <tr>\n",
       "      <th>Spain</th>\n",
       "      <td>2.023634</td>\n",
       "    </tr>\n",
       "    <tr>\n",
       "      <th>Nigeria</th>\n",
       "      <td>2.003347</td>\n",
       "    </tr>\n",
       "    <tr>\n",
       "      <th>France</th>\n",
       "      <td>1.957701</td>\n",
       "    </tr>\n",
       "    <tr>\n",
       "      <th>Taiwan</th>\n",
       "      <td>1.526601</td>\n",
       "    </tr>\n",
       "    <tr>\n",
       "      <th>Turkey</th>\n",
       "      <td>1.460668</td>\n",
       "    </tr>\n",
       "    <tr>\n",
       "      <th>Italy</th>\n",
       "      <td>1.374448</td>\n",
       "    </tr>\n",
       "    <tr>\n",
       "      <th>Australia</th>\n",
       "      <td>1.364305</td>\n",
       "    </tr>\n",
       "    <tr>\n",
       "      <th>Poland</th>\n",
       "      <td>1.075214</td>\n",
       "    </tr>\n",
       "    <tr>\n",
       "      <th>Pakistan</th>\n",
       "      <td>1.065071</td>\n",
       "    </tr>\n",
       "    <tr>\n",
       "      <th>Mexico</th>\n",
       "      <td>0.988994</td>\n",
       "    </tr>\n",
       "  </tbody>\n",
       "</table>\n",
       "</div>"
      ],
      "text/plain": [
       "                                                      percent\n",
       "India                                               24.273470\n",
       "United States of America                            15.646397\n",
       "Other                                                5.345641\n",
       "Brazil                                               3.692245\n",
       "Japan                                                3.413298\n",
       "Russia                                               3.174925\n",
       "China                                                2.911193\n",
       "Germany                                              2.693107\n",
       "United Kingdom of Great Britain and Northern Ir...   2.444591\n",
       "Canada                                               2.282294\n",
       "Spain                                                2.023634\n",
       "Nigeria                                              2.003347\n",
       "France                                               1.957701\n",
       "Taiwan                                               1.526601\n",
       "Turkey                                               1.460668\n",
       "Italy                                                1.374448\n",
       "Australia                                            1.364305\n",
       "Poland                                               1.075214\n",
       "Pakistan                                             1.065071\n",
       "Mexico                                               0.988994"
      ]
     },
     "execution_count": 265,
     "metadata": {},
     "output_type": "execute_result"
    }
   ],
   "source": [
    "df_c1=df_c.sort_values(by='percent', ascending=False)\n",
    "df_c1[0:20]"
   ]
  },
  {
   "cell_type": "code",
   "execution_count": 275,
   "metadata": {},
   "outputs": [
    {
     "data": {
      "text/plain": [
       "<matplotlib.axes._subplots.AxesSubplot at 0x1e3e28384e0>"
      ]
     },
     "execution_count": 275,
     "metadata": {},
     "output_type": "execute_result"
    },
    {
     "data": {
      "image/png": "[encoded data removed]",
      "text/plain": [
       "<Figure size 1440x360 with 1 Axes>"
      ]
     },
     "metadata": {
      "needs_background": "light"
     },
     "output_type": "display_data"
    }
   ],
   "source": [
    "df_c1[\"percent\"].plot(figsize=(20,5))\n"
   ]
  },
  {
   "cell_type": "code",
   "execution_count": 273,
   "metadata": {},
   "outputs": [
    {
     "data": {
      "text/plain": [
       "United States of America                                15.646397\n",
       "Other                                                    5.345641\n",
       "Brazil                                                   3.692245\n",
       "Japan                                                    3.413298\n",
       "Russia                                                   3.174925\n",
       "China                                                    2.911193\n",
       "Germany                                                  2.693107\n",
       "United Kingdom of Great Britain and Northern Ireland     2.444591\n",
       "Canada                                                   2.282294\n",
       "Spain                                                    2.023634\n",
       "Nigeria                                                  2.003347\n",
       "France                                                   1.957701\n",
       "Taiwan                                                   1.526601\n",
       "Turkey                                                   1.460668\n",
       "Italy                                                    1.374448\n",
       "Australia                                                1.364305\n",
       "Poland                                                   1.075214\n",
       "Pakistan                                                 1.065071\n",
       "Mexico                                                   0.988994\n",
       "Name: percent, dtype: float64"
      ]
     },
     "execution_count": 273,
     "metadata": {},
     "output_type": "execute_result"
    }
   ],
   "source": [
    "df_c1[\"percent\"][1:20]"
   ]
  },
  {
   "cell_type": "code",
   "execution_count": 279,
   "metadata": {},
   "outputs": [
    {
     "data": {
      "text/plain": [
       "[<matplotlib.lines.Line2D at 0x1e3e3bd7dd8>]"
      ]
     },
     "execution_count": 279,
     "metadata": {},
     "output_type": "execute_result"
    },
    {
     "data": {
      "image/png": "[encoded data removed]",
      "text/plain": [
       "<Figure size 432x288 with 1 Axes>"
      ]
     },
     "metadata": {
      "needs_background": "light"
     },
     "output_type": "display_data"
    }
   ],
   "source": [
    "plt.plot(df_c1[\"percent\"][0:5])"
   ]
  },
  {
   "cell_type": "code",
   "execution_count": 286,
   "metadata": {},
   "outputs": [
    {
     "data": {
      "text/plain": [
       "([<matplotlib.patches.Wedge at 0x1e3e3dca978>,\n",
       "  <matplotlib.patches.Wedge at 0x1e3e3dcae48>,\n",
       "  <matplotlib.patches.Wedge at 0x1e3e3dd6358>,\n",
       "  <matplotlib.patches.Wedge at 0x1e3e3dd6828>,\n",
       "  <matplotlib.patches.Wedge at 0x1e3e3dd6cf8>,\n",
       "  <matplotlib.patches.Wedge at 0x1e3e3dde208>,\n",
       "  <matplotlib.patches.Wedge at 0x1e3e3dde6d8>,\n",
       "  <matplotlib.patches.Wedge at 0x1e3e3ddeba8>,\n",
       "  <matplotlib.patches.Wedge at 0x1e3e3de80b8>,\n",
       "  <matplotlib.patches.Wedge at 0x1e3e3de8588>,\n",
       "  <matplotlib.patches.Wedge at 0x1e3e3db5438>,\n",
       "  <matplotlib.patches.Wedge at 0x1e3e3de8ef0>,\n",
       "  <matplotlib.patches.Wedge at 0x1e3e3df2400>,\n",
       "  <matplotlib.patches.Wedge at 0x1e3e3df28d0>,\n",
       "  <matplotlib.patches.Wedge at 0x1e3e3df2da0>,\n",
       "  <matplotlib.patches.Wedge at 0x1e3e3dfd2b0>,\n",
       "  <matplotlib.patches.Wedge at 0x1e3e3dfd780>,\n",
       "  <matplotlib.patches.Wedge at 0x1e3e3dfdc50>,\n",
       "  <matplotlib.patches.Wedge at 0x1e3e3e07160>,\n",
       "  <matplotlib.patches.Wedge at 0x1e3e3e07630>],\n",
       " [Text(0.6445418148665828, 0.8913842319047898, 'India'),\n",
       "  Text(-0.8802494336194079, 0.6596672908464628, 'United States of America'),\n",
       "  Text(-1.0834076449423191, -0.19033621536780132, 'Other'),\n",
       "  Text(-0.9514856997736393, -0.5519736978573057, 'Brazil'),\n",
       "  Text(-0.7646183410548641, -0.7907963028002266, 'Japan'),\n",
       "  Text(-0.5390570347374452, -0.9588626144031652, 'Russia'),\n",
       "  Text(-0.29898888879417174, -1.0585866258259768, 'China'),\n",
       "  Text(-0.06282673057905347, -1.0982043534446342, 'Germany'),\n",
       "  Text(0.1565663900000696, -1.0888007005519174, 'United Kingdom of Great Britain and Northern Ireland'),\n",
       "  Text(0.35310841997923476, -1.041784259690925, 'Canada'),\n",
       "  Text(0.521938802929045, -0.9682870886245442, 'Spain'),\n",
       "  Text(0.6666841465800666, -0.874946997651177, 'Nigeria'),\n",
       "  Text(0.7931321753375146, -0.7621950881791236, 'France'),\n",
       "  Text(0.8888969063149251, -0.647967815515366, 'Taiwan'),\n",
       "  Text(0.9580635676935748, -0.5404759016443371, 'Turkey'),\n",
       "  Text(1.0117549095310354, -0.43168507391366534, 'Italy'),\n",
       "  Text(1.0519407135679577, -0.321590943806159, 'Australia'),\n",
       "  Text(1.0776912671196626, -0.22041218835177, 'Poland'),\n",
       "  Text(1.092293814414571, -0.12997777883802566, 'Pakistan'),\n",
       "  Text(1.0991852001774154, -0.04233078916031979, 'Mexico')])"
      ]
     },
     "execution_count": 286,
     "metadata": {},
     "output_type": "execute_result"
    },
    {
     "data": {
      "image/png": "[encoded data removed]",
      "text/plain": [
       "<Figure size 432x288 with 1 Axes>"
      ]
     },
     "metadata": {},
     "output_type": "display_data"
    }
   ],
   "source": [
    "plt.pie((df_c1[\"percent\"][0:20]),labels=df_c1.index[0:20])"
   ]
  },
  {
   "cell_type": "code",
   "execution_count": 287,
   "metadata": {},
   "outputs": [],
   "source": [
    "#educational_criteria"
   ]
  },
  {
   "cell_type": "code",
   "execution_count": 314,
   "metadata": {},
   "outputs": [],
   "source": [
    "q=[]\n",
    "for i in (df[\"Q4\"]).values:\n",
    "      q=np.append(q,i)"
   ]
  },
  {
   "cell_type": "code",
   "execution_count": 315,
   "metadata": {},
   "outputs": [],
   "source": [
    "uq=np.unique(q)"
   ]
  },
  {
   "cell_type": "code",
   "execution_count": 319,
   "metadata": {},
   "outputs": [],
   "source": [
    "a=[]\n",
    "for i in uq:\n",
    "    a=np.append(a,(cc(q,i)/len(q))*100)"
   ]
  },
  {
   "cell_type": "code",
   "execution_count": 330,
   "metadata": {},
   "outputs": [],
   "source": [
    "df_q=DataFrame([a],columns=uq,index=[\"percent\"]).T"
   ]
  },
  {
   "cell_type": "code",
   "execution_count": 331,
   "metadata": {},
   "outputs": [
    {
     "data": {
      "text/html": [
       "<div>\n",
       "<style scoped>\n",
       "    .dataframe tbody tr th:only-of-type {\n",
       "        vertical-align: middle;\n",
       "    }\n",
       "\n",
       "    .dataframe tbody tr th {\n",
       "        vertical-align: top;\n",
       "    }\n",
       "\n",
       "    .dataframe thead th {\n",
       "        text-align: right;\n",
       "    }\n",
       "</style>\n",
       "<table border=\"1\" class=\"dataframe\">\n",
       "  <thead>\n",
       "    <tr style=\"text-align: right;\">\n",
       "      <th></th>\n",
       "      <th>percent</th>\n",
       "    </tr>\n",
       "  </thead>\n",
       "  <tbody>\n",
       "    <tr>\n",
       "      <th>Bachelor’s degree</th>\n",
       "      <td>30.395091</td>\n",
       "    </tr>\n",
       "    <tr>\n",
       "      <th>Doctoral degree</th>\n",
       "      <td>14.033575</td>\n",
       "    </tr>\n",
       "    <tr>\n",
       "      <th>I prefer not to answer</th>\n",
       "      <td>1.688898</td>\n",
       "    </tr>\n",
       "    <tr>\n",
       "      <th>Master’s degree</th>\n",
       "      <td>43.353451</td>\n",
       "    </tr>\n",
       "    <tr>\n",
       "      <th>No formal education past high school</th>\n",
       "      <td>1.181721</td>\n",
       "    </tr>\n",
       "    <tr>\n",
       "      <th>Professional degree</th>\n",
       "      <td>3.098849</td>\n",
       "    </tr>\n",
       "    <tr>\n",
       "      <th>Some college/university study without earning a bachelor’s degree</th>\n",
       "      <td>4.245068</td>\n",
       "    </tr>\n",
       "    <tr>\n",
       "      <th>nan</th>\n",
       "      <td>1.998276</td>\n",
       "    </tr>\n",
       "  </tbody>\n",
       "</table>\n",
       "</div>"
      ],
      "text/plain": [
       "                                                      percent\n",
       "Bachelor’s degree                                   30.395091\n",
       "Doctoral degree                                     14.033575\n",
       "I prefer not to answer                               1.688898\n",
       "Master’s degree                                     43.353451\n",
       "No formal education past high school                 1.181721\n",
       "Professional degree                                  3.098849\n",
       "Some college/university study without earning a...   4.245068\n",
       "nan                                                  1.998276"
      ]
     },
     "execution_count": 331,
     "metadata": {},
     "output_type": "execute_result"
    }
   ],
   "source": [
    "df_q"
   ]
  },
  {
   "cell_type": "code",
   "execution_count": 332,
   "metadata": {},
   "outputs": [
    {
     "data": {
      "text/plain": [
       "[<matplotlib.lines.Line2D at 0x1e3e3e4a400>]"
      ]
     },
     "execution_count": 332,
     "metadata": {},
     "output_type": "execute_result"
    },
    {
     "data": {
      "image/png": "[encoded data removed]",
      "text/plain": [
       "<Figure size 432x288 with 1 Axes>"
      ]
     },
     "metadata": {
      "needs_background": "light"
     },
     "output_type": "display_data"
    }
   ],
   "source": [
    "plt.plot(df_q[\"percent\"])"
   ]
  },
  {
   "cell_type": "code",
   "execution_count": 333,
   "metadata": {},
   "outputs": [
    {
     "data": {
      "text/plain": [
       "([<matplotlib.patches.Wedge at 0x1e3e43aa198>,\n",
       "  <matplotlib.patches.Wedge at 0x1e3e43aa6a0>,\n",
       "  <matplotlib.patches.Wedge at 0x1e3e43aaac8>,\n",
       "  <matplotlib.patches.Wedge at 0x1e3e43aaf98>,\n",
       "  <matplotlib.patches.Wedge at 0x1e3e43b44a8>,\n",
       "  <matplotlib.patches.Wedge at 0x1e3e43b4978>,\n",
       "  <matplotlib.patches.Wedge at 0x1e3e43b4e48>,\n",
       "  <matplotlib.patches.Wedge at 0x1e3e43bd358>],\n",
       " [Text(0.635424917692414, 0.8979059939523676, 'Bachelor’s degree'),\n",
       "  Text(-0.7735922566817168, 0.7820198337651603, 'Doctoral degree'),\n",
       "  Text(-1.051887450466879, 0.32176511860406753, 'I prefer not to answer'),\n",
       "  Text(-0.48096832402206796, -0.989277246926969, 'Master’s degree'),\n",
       "  Text(0.892610407726791, -0.6428426401677257, 'No formal education past high school'),\n",
       "  Text(0.9707428750750252, -0.5173570048729156, 'Professional degree'),\n",
       "  Text(1.0633307141696047, -0.28165189916554534, 'Some college/university study without earning a bachelor’s degree'),\n",
       "  Text(1.0978329497651396, -0.0690131466459306, 'nan')])"
      ]
     },
     "execution_count": 333,
     "metadata": {},
     "output_type": "execute_result"
    },
    {
     "data": {
      "image/png": "[encoded data removed]",
      "text/plain": [
       "<Figure size 432x288 with 1 Axes>"
      ]
     },
     "metadata": {},
     "output_type": "display_data"
    }
   ],
   "source": [
    "plt.pie((df_q[\"percent\"]),labels=uq)"
   ]
  },
  {
   "cell_type": "code",
   "execution_count": 334,
   "metadata": {},
   "outputs": [],
   "source": [
    "#job_title"
   ]
  },
  {
   "cell_type": "code",
   "execution_count": 335,
   "metadata": {},
   "outputs": [],
   "source": [
    "j=[]\n",
    "for i in (df[\"Q5\"]).values:\n",
    "      j=np.append(j,i)\n",
    "uj=np.unique(j)\n",
    "a=[]\n",
    "for i in uj:\n",
    "    a=np.append(a,(cc(j,i)/len(j))*100)\n",
    "df_j=DataFrame([a],columns=uj,index=[\"percent\"]).T"
   ]
  },
  {
   "cell_type": "code",
   "execution_count": 336,
   "metadata": {},
   "outputs": [
    {
     "data": {
      "text/html": [
       "<div>\n",
       "<style scoped>\n",
       "    .dataframe tbody tr th:only-of-type {\n",
       "        vertical-align: middle;\n",
       "    }\n",
       "\n",
       "    .dataframe tbody tr th {\n",
       "        vertical-align: top;\n",
       "    }\n",
       "\n",
       "    .dataframe thead th {\n",
       "        text-align: right;\n",
       "    }\n",
       "</style>\n",
       "<table border=\"1\" class=\"dataframe\">\n",
       "  <thead>\n",
       "    <tr style=\"text-align: right;\">\n",
       "      <th></th>\n",
       "      <th>percent</th>\n",
       "    </tr>\n",
       "  </thead>\n",
       "  <tbody>\n",
       "    <tr>\n",
       "      <th>Business Analyst</th>\n",
       "      <td>3.945834</td>\n",
       "    </tr>\n",
       "    <tr>\n",
       "      <th>DBA/Database Engineer</th>\n",
       "      <td>0.791195</td>\n",
       "    </tr>\n",
       "    <tr>\n",
       "      <th>Data Analyst</th>\n",
       "      <td>8.104681</td>\n",
       "    </tr>\n",
       "    <tr>\n",
       "      <th>Data Engineer</th>\n",
       "      <td>3.164782</td>\n",
       "    </tr>\n",
       "    <tr>\n",
       "      <th>Data Scientist</th>\n",
       "      <td>20.718162</td>\n",
       "    </tr>\n",
       "    <tr>\n",
       "      <th>Not employed</th>\n",
       "      <td>4.777603</td>\n",
       "    </tr>\n",
       "    <tr>\n",
       "      <th>Other</th>\n",
       "      <td>8.571284</td>\n",
       "    </tr>\n",
       "    <tr>\n",
       "      <th>Product/Project Manager</th>\n",
       "      <td>3.666886</td>\n",
       "    </tr>\n",
       "    <tr>\n",
       "      <th>Research Scientist</th>\n",
       "      <td>7.455495</td>\n",
       "    </tr>\n",
       "    <tr>\n",
       "      <th>Software Engineer</th>\n",
       "      <td>13.714054</td>\n",
       "    </tr>\n",
       "    <tr>\n",
       "      <th>Statistician</th>\n",
       "      <td>1.633108</td>\n",
       "    </tr>\n",
       "    <tr>\n",
       "      <th>Student</th>\n",
       "      <td>20.358067</td>\n",
       "    </tr>\n",
       "    <tr>\n",
       "      <th>nan</th>\n",
       "      <td>3.093777</td>\n",
       "    </tr>\n",
       "  </tbody>\n",
       "</table>\n",
       "</div>"
      ],
      "text/plain": [
       "                           percent\n",
       "Business Analyst          3.945834\n",
       "DBA/Database Engineer     0.791195\n",
       "Data Analyst              8.104681\n",
       "Data Engineer             3.164782\n",
       "Data Scientist           20.718162\n",
       "Not employed              4.777603\n",
       "Other                     8.571284\n",
       "Product/Project Manager   3.666886\n",
       "Research Scientist        7.455495\n",
       "Software Engineer        13.714054\n",
       "Statistician              1.633108\n",
       "Student                  20.358067\n",
       "nan                       3.093777"
      ]
     },
     "execution_count": 336,
     "metadata": {},
     "output_type": "execute_result"
    }
   ],
   "source": [
    "df_j"
   ]
  },
  {
   "cell_type": "code",
   "execution_count": 337,
   "metadata": {},
   "outputs": [
    {
     "data": {
      "text/plain": [
       "[<matplotlib.lines.Line2D at 0x1e3e43f0be0>]"
      ]
     },
     "execution_count": 337,
     "metadata": {},
     "output_type": "execute_result"
    },
    {
     "data": {
      "image/png": "[encoded data removed]",
      "text/plain": [
       "<Figure size 432x288 with 1 Axes>"
      ]
     },
     "metadata": {
      "needs_background": "light"
     },
     "output_type": "display_data"
    }
   ],
   "source": [
    "plt.plot(df_j[\"percent\"])"
   ]
  },
  {
   "cell_type": "code",
   "execution_count": 339,
   "metadata": {},
   "outputs": [
    {
     "data": {
      "text/plain": [
       "([<matplotlib.patches.Wedge at 0x1e3e44a6e48>,\n",
       "  <matplotlib.patches.Wedge at 0x1e3e44af390>,\n",
       "  <matplotlib.patches.Wedge at 0x1e3e44af860>,\n",
       "  <matplotlib.patches.Wedge at 0x1e3e44afd30>,\n",
       "  <matplotlib.patches.Wedge at 0x1e3e43fc208>,\n",
       "  <matplotlib.patches.Wedge at 0x1e3e44b96d8>,\n",
       "  <matplotlib.patches.Wedge at 0x1e3e44b9ba8>,\n",
       "  <matplotlib.patches.Wedge at 0x1e3e44c3198>,\n",
       "  <matplotlib.patches.Wedge at 0x1e3e44c3668>,\n",
       "  <matplotlib.patches.Wedge at 0x1e3e44c3b38>,\n",
       "  <matplotlib.patches.Wedge at 0x1e3e4479668>,\n",
       "  <matplotlib.patches.Wedge at 0x1e3e44cd470>,\n",
       "  <matplotlib.patches.Wedge at 0x1e3e44cd9b0>],\n",
       " [Text(1.0915583429161368, 0.13601611672951744, 'Business Analyst'),\n",
       "  Text(1.059324079193928, 0.2963654757895006, 'DBA/Database Engineer'),\n",
       "  Text(0.9364634343900373, 0.5770929180386954, 'Data Analyst'),\n",
       "  Text(0.6782952900853363, 0.8659766159937863, 'Data Engineer'),\n",
       "  Text(-0.09435784272975185, 1.0959455267098759, 'Data Scientist'),\n",
       "  Text(-0.8526278942351329, 0.6950004848718908, 'Not employed'),\n",
       "  Text(-1.0617432718146302, 0.2875782063306679, 'Other'),\n",
       "  Text(-1.0920915276513545, -0.13166660636672692, 'Product/Project Manager'),\n",
       "  Text(-0.9810127896590962, -0.4976081857498708, 'Research Scientist'),\n",
       "  Text(-0.46482735916873663, -0.996963151860799, 'Software Engineer'),\n",
       "  Text(0.050461647145123835, -1.098841945944639, 'Statistician'),\n",
       "  Text(0.7391122428931246, -0.8146858857286624, 'Student'),\n",
       "  Text(1.094807866698538, -0.10675080802971312, 'nan')])"
      ]
     },
     "execution_count": 339,
     "metadata": {},
     "output_type": "execute_result"
    },
    {
     "data": {
      "image/png": "[encoded data removed]",
      "text/plain": [
       "<Figure size 432x288 with 1 Axes>"
      ]
     },
     "metadata": {},
     "output_type": "display_data"
    }
   ],
   "source": [
    "plt.pie((df_j[\"percent\"]),labels=uj)"
   ]
  },
  {
   "cell_type": "code",
   "execution_count": 340,
   "metadata": {},
   "outputs": [],
   "source": [
    "#team_size"
   ]
  },
  {
   "cell_type": "code",
   "execution_count": 341,
   "metadata": {},
   "outputs": [],
   "source": [
    "s=[]\n",
    "for i in (df[\"Q7\"]).values:\n",
    "      s=np.append(s,i)\n",
    "us=np.unique(s)\n",
    "a=[]\n",
    "for i in us:\n",
    "    a=np.append(a,(cc(s,i)/len(j))*100)\n",
    "df_s=DataFrame([a],columns=us,index=[\"percent\"]).T"
   ]
  },
  {
   "cell_type": "code",
   "execution_count": 342,
   "metadata": {},
   "outputs": [
    {
     "data": {
      "text/html": [
       "<div>\n",
       "<style scoped>\n",
       "    .dataframe tbody tr th:only-of-type {\n",
       "        vertical-align: middle;\n",
       "    }\n",
       "\n",
       "    .dataframe tbody tr th {\n",
       "        vertical-align: top;\n",
       "    }\n",
       "\n",
       "    .dataframe thead th {\n",
       "        text-align: right;\n",
       "    }\n",
       "</style>\n",
       "<table border=\"1\" class=\"dataframe\">\n",
       "  <thead>\n",
       "    <tr style=\"text-align: right;\">\n",
       "      <th></th>\n",
       "      <th>percent</th>\n",
       "    </tr>\n",
       "  </thead>\n",
       "  <tbody>\n",
       "    <tr>\n",
       "      <th>0</th>\n",
       "      <td>9.529847</td>\n",
       "    </tr>\n",
       "    <tr>\n",
       "      <th>1-2</th>\n",
       "      <td>15.240655</td>\n",
       "    </tr>\n",
       "    <tr>\n",
       "      <th>10-14</th>\n",
       "      <td>4.904397</td>\n",
       "    </tr>\n",
       "    <tr>\n",
       "      <th>15-19</th>\n",
       "      <td>2.165644</td>\n",
       "    </tr>\n",
       "    <tr>\n",
       "      <th>20+</th>\n",
       "      <td>16.118071</td>\n",
       "    </tr>\n",
       "    <tr>\n",
       "      <th>3-4</th>\n",
       "      <td>11.761424</td>\n",
       "    </tr>\n",
       "    <tr>\n",
       "      <th>5-9</th>\n",
       "      <td>9.367551</td>\n",
       "    </tr>\n",
       "    <tr>\n",
       "      <th>nan</th>\n",
       "      <td>30.907339</td>\n",
       "    </tr>\n",
       "  </tbody>\n",
       "</table>\n",
       "</div>"
      ],
      "text/plain": [
       "         percent\n",
       "0       9.529847\n",
       "1-2    15.240655\n",
       "10-14   4.904397\n",
       "15-19   2.165644\n",
       "20+    16.118071\n",
       "3-4    11.761424\n",
       "5-9     9.367551\n",
       "nan    30.907339"
      ]
     },
     "execution_count": 342,
     "metadata": {},
     "output_type": "execute_result"
    }
   ],
   "source": [
    "df_s"
   ]
  },
  {
   "cell_type": "code",
   "execution_count": 345,
   "metadata": {},
   "outputs": [
    {
     "data": {
      "text/plain": [
       "[<matplotlib.lines.Line2D at 0x1e3e48177b8>]"
      ]
     },
     "execution_count": 345,
     "metadata": {},
     "output_type": "execute_result"
    },
    {
     "data": {
      "image/png": "[encoded data removed]",
      "text/plain": [
       "<Figure size 432x288 with 1 Axes>"
      ]
     },
     "metadata": {
      "needs_background": "light"
     },
     "output_type": "display_data"
    }
   ],
   "source": [
    "plt.plot(df_s[\"percent\"])"
   ]
  },
  {
   "cell_type": "code",
   "execution_count": 347,
   "metadata": {},
   "outputs": [
    {
     "data": {
      "text/plain": [
       "([<matplotlib.patches.Wedge at 0x1e3e48e1080>,\n",
       "  <matplotlib.patches.Wedge at 0x1e3e48e1588>,\n",
       "  <matplotlib.patches.Wedge at 0x1e3e48e1ac8>,\n",
       "  <matplotlib.patches.Wedge at 0x1e3e48e1fd0>,\n",
       "  <matplotlib.patches.Wedge at 0x1e3e48ea550>,\n",
       "  <matplotlib.patches.Wedge at 0x1e3e48eaa90>,\n",
       "  <matplotlib.patches.Wedge at 0x1e3e48eaf28>,\n",
       "  <matplotlib.patches.Wedge at 0x1e3e4b734a8>],\n",
       " [Text(1.0510636497055015, 0.32444599591881385, '0'),\n",
       "  Text(0.5207572145929923, 0.9689230740617897, '1-2'),\n",
       "  Text(-0.1532175661707586, 1.089276997561552, '10-14'),\n",
       "  Text(-0.38942221335787947, 1.0287615563110095, '15-19'),\n",
       "  Text(-0.8859042240434072, 0.6520534531938688, '20+'),\n",
       "  Text(-1.0681037867712522, -0.26297205304920046, '3-4'),\n",
       "  Text(-0.6792609596338465, -0.8652193645066586, '5-9'),\n",
       "  Text(0.6208924517063354, -0.908015728616028, 'nan')])"
      ]
     },
     "execution_count": 347,
     "metadata": {},
     "output_type": "execute_result"
    },
    {
     "data": {
      "image/png": "[encoded data removed]",
      "text/plain": [
       "<Figure size 432x288 with 1 Axes>"
      ]
     },
     "metadata": {},
     "output_type": "display_data"
    }
   ],
   "source": [
    "plt.pie((df_s[\"percent\"]),labels=us)"
   ]
  },
  {
   "cell_type": "code",
   "execution_count": null,
   "metadata": {},
   "outputs": [],
   "source": []
  },
  {
   "cell_type": "code",
   "execution_count": null,
   "metadata": {},
   "outputs": [],
   "source": []
  },
  {
   "cell_type": "code",
   "execution_count": null,
   "metadata": {},
   "outputs": [],
   "source": []
  },
  {
   "cell_type": "code",
   "execution_count": null,
   "metadata": {},
   "outputs": [],
   "source": []
  },
  {
   "cell_type": "code",
   "execution_count": null,
   "metadata": {},
   "outputs": [],
   "source": []
  },
  {
   "cell_type": "code",
   "execution_count": null,
   "metadata": {},
   "outputs": [],
   "source": []
  }
 ],
 "metadata": {
  "kernelspec": {
   "display_name": "Python 3",
   "language": "python",
   "name": "python3"
  },
  "language_info": {
   "codemirror_mode": {
    "name": "ipython",
    "version": 3
   },
   "file_extension": ".py",
   "mimetype": "text/x-python",
   "name": "python",
   "nbconvert_exporter": "python",
   "pygments_lexer": "ipython3",
   "version": "3.7.1"
  }
 },
 "nbformat": 4,
 "nbformat_minor": 2
}
